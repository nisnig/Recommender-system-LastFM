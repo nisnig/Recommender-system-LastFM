{
 "cells": [
  {
   "cell_type": "markdown",
   "metadata": {},
   "source": [
    "# <center><font color='orange' size=35 style = \"font-family:Bebas Neue\"> Which new artists should you try out? 🎶<font/><center/>\n",
    "<img src=https://static.billboard.com/files/2020/03/top-100-songs-2000-billboard-1500x845-1584976274-768x433.jpg>\n",
    "    \n",
    "# 🎤 Executive Summary\n",
    "\n",
    "It's the 2000s. Your friends just introduced you to a new artist: Katy Perry and you want to impress them by finding a new artist as well. How will you do so? Will you try to find artists that other users similar to you listen to or artists that are similar to the ones you already listen to?\n",
    "    \n",
    "There are multiple media/audio streaming websites and applications nowadays that try to introduce (recommend) artists to their users to keep their playlists updated. These websites collect data on each user's activity, the artists they listen to as well as the listening count, the time (day, month, and year) when a particular artist was heard, and the tags they give these artists, as well as the number of views per artists and their respective tags. This sort of data was used in this project and sourced from [Last FM online music system](http://www.last.fm).\n",
    "\n",
    "To find these recommendations, the data was MinMax scaled and the different types of collaborative filtering such as the memory based, model based (NMF), and hybrid were then applied. The hybrid was further augmented with a friend only neighborhood. \n",
    "\n",
    "The best results were achieved by the friend only hybrid algorithm, the item based collaborative filtering algorithm, and the NMF model based algorithm, in order of rank. This rank was given via a subjective method (judging the songs of output artists) and tag similarity because of the lack of a error metric that could be used uniformly along all algorithms.\n",
    "\n",
    "These algorithms however, recommended artists that had not been viewed previously by the user, based only on the listening count of different users and artists. This method did not consider that the users belonged to a wide variety of cultures, locations, languages, etc. Despite tags being similar, 2 problems were identified. Firstly, the recommended artists were of different languages, and secondly, the artists that had been viewed only a few times were not part of the contestants for the recommendations. Therefore, this methodology could only be applied in recommending artists with an additional regional or language based filter and not for music recommendation.\n",
    "\n",
    "# 🎤 Introduction\n",
    "\n",
    "The data was sourced from [Last FM online music system](http://www.last.fm). All files were stored and retrieved from the following directory."
   ]
  },
  {
   "cell_type": "code",
   "execution_count": 1,
   "metadata": {
    "ExecuteTime": {
     "end_time": "2020-11-02T06:53:13.740297Z",
     "start_time": "2020-11-02T06:53:13.302203Z"
    }
   },
   "outputs": [
    {
     "name": "stdout",
     "output_type": "stream",
     "text": [
      "artists.dat\t\t  tags.dat\t    user_taggedartists.dat\r\n",
      "hetrec2011-lastfm-2k.zip  user_artists.dat  user_taggedartists-timestamps.dat\r\n",
      "readme.txt\t\t  user_friends.dat\r\n"
     ]
    }
   ],
   "source": [
    "!ls /mnt/data/public/hetrec2011/lastfm"
   ]
  },
  {
   "cell_type": "markdown",
   "metadata": {},
   "source": [
    "## 🎧 Data Description\n",
    "\n",
    "A detailed data description is readilly available in the readme.txt file.\n",
    "\n",
    "Some points to note are:\n",
    "- Data is dated 2011.\n",
    "- There are 1892 users and 17632 artists.\n",
    "- The \"weight\" column in the user_artists.data file is the listening count value that will be used (instead of the commonly used ratings\").\n",
    "- No external sources of data were used to determine artist or user language, geographic location, and other important factors for a meaningful recommendation. The listening count was the sole value used in this project."
   ]
  },
  {
   "cell_type": "code",
   "execution_count": 2,
   "metadata": {
    "ExecuteTime": {
     "end_time": "2020-11-02T06:53:20.208971Z",
     "start_time": "2020-11-02T06:53:13.743654Z"
    }
   },
   "outputs": [
    {
     "name": "stdout",
     "output_type": "stream",
     "text": [
      "\r\n",
      "\r\n",
      "\r\n",
      "\r\n",
      "\r\n",
      "\r\n",
      "\r\n",
      "\r\n",
      "\r\n",
      "\r\n",
      "\r\n",
      "\r\n",
      "\r\n",
      "\r\n",
      "\r\n",
      "\r\n",
      "\r\n",
      "\r\n",
      "\r\n",
      "\r\n",
      "\r\n",
      "\r\n",
      "\r\n",
      "\r\n",
      "\r\n",
      "\r\n",
      "\r\n",
      "\r\n",
      "\r\n",
      "\r\n",
      "\r\n",
      "\r\n",
      "\r\n",
      "\r\n",
      "\r\n",
      "\r\n",
      "\r\n",
      "\r\n",
      "\r\n",
      "\r\n",
      "\r\n",
      "\r\n",
      "\r\n",
      "\r\n",
      "\r\n",
      "\r\n",
      "\r\n",
      "\r\n",
      "\r\n",
      "\r\n",
      "\r\n",
      "\r\n",
      "\r\n",
      "\r\n",
      "\r\n",
      "\r\n",
      "\r\n",
      "\r\n",
      "\r\n",
      "\r\n",
      "\r\n",
      "\r\n",
      "\r\n",
      "\r\n",
      "\r\n",
      "\r\n",
      "\r\n",
      "\r\n",
      "\r\n",
      "\r\n",
      "\r\n",
      "\r\n",
      "\r\n",
      "\r\n",
      "\r\n",
      "\r\n",
      "\r\n",
      "\r\n",
      "\r\n",
      "\r\n",
      "\r\n",
      "\r\n",
      "\r\n",
      "\r\n",
      "\r\n",
      "\r\n",
      "\r\n",
      "\r\n",
      "\r\n",
      "\r\n",
      "\r\n",
      "\r\n",
      "\r\n",
      "\r\n",
      "\r\n",
      "\r\n",
      "\r\n",
      "\r\n",
      "\r\n",
      "\r\n",
      "\r\n",
      "\r\n",
      "\r\n",
      "\r\n",
      "\r\n",
      "\r\n",
      "\r\n",
      "\r\n",
      "\r\n",
      "\r\n",
      "\r\n",
      "\r\n",
      "\r\n",
      "\r\n",
      "\r\n",
      "\r\n",
      "\r\n",
      "\r\n",
      "\r\n",
      "\r\n",
      "\r\n",
      "\r\n",
      "\r\n",
      "\r\n",
      "\r\n",
      "\r\n",
      "\r\n",
      "\r\n",
      "\r\n",
      "\r\n",
      "\r\n",
      "\r\n",
      "\r\n",
      "\r\n",
      "\r\n",
      "\r\n",
      "\r\n",
      "\r\n",
      "\r\n",
      "\r\n",
      "\r\n",
      "\r\n",
      "\r\n",
      "\r\n",
      "\r\n",
      "\r\n",
      "\r\n",
      "\r\n",
      "\r\n",
      "\r\n",
      "\r\n",
      "\r\n",
      "\r\n",
      "\r\n",
      "\r\n",
      "\r\n",
      "\r\n",
      "\r\n",
      "\r\n",
      "\r\n",
      "\r\n",
      "\r\n",
      "\r\n",
      "\r\n"
     ]
    }
   ],
   "source": [
    "!cat /mnt/data/public/hetrec2011/lastfm/readme.txt"
   ]
  },
  {
   "cell_type": "markdown",
   "metadata": {},
   "source": [
    "# 🎤 Methodology\n",
    "\n",
    "The methodology follows the following pipeline.\n",
    "\n",
    "![](pipeline.PNG)"
   ]
  },
  {
   "cell_type": "markdown",
   "metadata": {},
   "source": [
    "##  🎻 Preliminaries"
   ]
  },
  {
   "cell_type": "code",
   "execution_count": 3,
   "metadata": {
    "ExecuteTime": {
     "end_time": "2020-11-02T06:53:22.296683Z",
     "start_time": "2020-11-02T06:53:20.211888Z"
    }
   },
   "outputs": [
    {
     "name": "stderr",
     "output_type": "stream",
     "text": [
      "Matplotlib created a temporary config/cache directory at /tmp/matplotlib-1eh7ebuo because the default path (/home/nnigam/.cache/matplotlib) is not a writable directory; it is highly recommended to set the MPLCONFIGDIR environment variable to a writable directory, in particular to speed up the import of Matplotlib and to better support multiprocessing.\n"
     ]
    }
   ],
   "source": [
    "# import standard libraries.\n",
    "\n",
    "import pandas as pd\n",
    "import numpy as np\n",
    "\n",
    "import warnings\n",
    "warnings.filterwarnings('ignore')\n",
    "\n",
    "import itertools\n",
    "from collections import Counter\n",
    "\n",
    "%matplotlib inline\n",
    "import matplotlib.pyplot as plt\n",
    "import seaborn as sns\n",
    "sns.set_style(\"darkgrid\")\n",
    "plt.rcParams['axes.grid'] = True"
   ]
  },
  {
   "cell_type": "markdown",
   "metadata": {},
   "source": [
    "### 🎻 Loading Files"
   ]
  },
  {
   "cell_type": "code",
   "execution_count": 4,
   "metadata": {
    "ExecuteTime": {
     "end_time": "2020-11-02T06:54:18.443875Z",
     "start_time": "2020-11-02T06:53:22.298676Z"
    }
   },
   "outputs": [
    {
     "data": {
      "text/html": [
       "<div>\n",
       "<style scoped>\n",
       "    .dataframe tbody tr th:only-of-type {\n",
       "        vertical-align: middle;\n",
       "    }\n",
       "\n",
       "    .dataframe tbody tr th {\n",
       "        vertical-align: top;\n",
       "    }\n",
       "\n",
       "    .dataframe thead th {\n",
       "        text-align: right;\n",
       "    }\n",
       "</style>\n",
       "<table border=\"1\" class=\"dataframe\">\n",
       "  <thead>\n",
       "    <tr style=\"text-align: right;\">\n",
       "      <th>artistID</th>\n",
       "      <th>!!!</th>\n",
       "      <th>!DISTAIN</th>\n",
       "      <th>!deladap</th>\n",
       "      <th>#####</th>\n",
       "      <th>#2 Orchestra</th>\n",
       "      <th>$lick</th>\n",
       "      <th>$lick feat. Six-Fo</th>\n",
       "      <th>(1962-1966)</th>\n",
       "      <th>(Pre) Kingdom</th>\n",
       "      <th>(We Are) Performance</th>\n",
       "      <th>...</th>\n",
       "      <th>티아라</th>\n",
       "      <th>현아</th>\n",
       "      <th>ＬｕＬｕ</th>\n",
       "      <th>ＭＡＮＮＥＱＵＩＮ</th>\n",
       "      <th>ＰＥＲＥＳＴＲＯＩＫＡ</th>\n",
       "      <th>ＲＥＤ</th>\n",
       "      <th>ＶａｎｅｓｓＡ</th>\n",
       "      <th>ｂｏｏｇｉｅｍａｎ</th>\n",
       "      <th>ｂｏｒｎ</th>\n",
       "      <th>ｍａｃｈｉｎｅ</th>\n",
       "    </tr>\n",
       "    <tr>\n",
       "      <th>userID</th>\n",
       "      <th></th>\n",
       "      <th></th>\n",
       "      <th></th>\n",
       "      <th></th>\n",
       "      <th></th>\n",
       "      <th></th>\n",
       "      <th></th>\n",
       "      <th></th>\n",
       "      <th></th>\n",
       "      <th></th>\n",
       "      <th></th>\n",
       "      <th></th>\n",
       "      <th></th>\n",
       "      <th></th>\n",
       "      <th></th>\n",
       "      <th></th>\n",
       "      <th></th>\n",
       "      <th></th>\n",
       "      <th></th>\n",
       "      <th></th>\n",
       "      <th></th>\n",
       "    </tr>\n",
       "  </thead>\n",
       "  <tbody>\n",
       "    <tr>\n",
       "      <th>2</th>\n",
       "      <td>NaN</td>\n",
       "      <td>NaN</td>\n",
       "      <td>NaN</td>\n",
       "      <td>NaN</td>\n",
       "      <td>NaN</td>\n",
       "      <td>NaN</td>\n",
       "      <td>NaN</td>\n",
       "      <td>NaN</td>\n",
       "      <td>NaN</td>\n",
       "      <td>NaN</td>\n",
       "      <td>...</td>\n",
       "      <td>NaN</td>\n",
       "      <td>NaN</td>\n",
       "      <td>NaN</td>\n",
       "      <td>NaN</td>\n",
       "      <td>NaN</td>\n",
       "      <td>NaN</td>\n",
       "      <td>NaN</td>\n",
       "      <td>NaN</td>\n",
       "      <td>NaN</td>\n",
       "      <td>NaN</td>\n",
       "    </tr>\n",
       "    <tr>\n",
       "      <th>3</th>\n",
       "      <td>NaN</td>\n",
       "      <td>NaN</td>\n",
       "      <td>NaN</td>\n",
       "      <td>NaN</td>\n",
       "      <td>NaN</td>\n",
       "      <td>NaN</td>\n",
       "      <td>NaN</td>\n",
       "      <td>NaN</td>\n",
       "      <td>NaN</td>\n",
       "      <td>NaN</td>\n",
       "      <td>...</td>\n",
       "      <td>NaN</td>\n",
       "      <td>NaN</td>\n",
       "      <td>NaN</td>\n",
       "      <td>NaN</td>\n",
       "      <td>NaN</td>\n",
       "      <td>NaN</td>\n",
       "      <td>NaN</td>\n",
       "      <td>NaN</td>\n",
       "      <td>NaN</td>\n",
       "      <td>NaN</td>\n",
       "    </tr>\n",
       "    <tr>\n",
       "      <th>4</th>\n",
       "      <td>NaN</td>\n",
       "      <td>NaN</td>\n",
       "      <td>NaN</td>\n",
       "      <td>NaN</td>\n",
       "      <td>NaN</td>\n",
       "      <td>NaN</td>\n",
       "      <td>NaN</td>\n",
       "      <td>NaN</td>\n",
       "      <td>NaN</td>\n",
       "      <td>NaN</td>\n",
       "      <td>...</td>\n",
       "      <td>NaN</td>\n",
       "      <td>NaN</td>\n",
       "      <td>NaN</td>\n",
       "      <td>NaN</td>\n",
       "      <td>NaN</td>\n",
       "      <td>NaN</td>\n",
       "      <td>NaN</td>\n",
       "      <td>NaN</td>\n",
       "      <td>NaN</td>\n",
       "      <td>NaN</td>\n",
       "    </tr>\n",
       "    <tr>\n",
       "      <th>5</th>\n",
       "      <td>NaN</td>\n",
       "      <td>NaN</td>\n",
       "      <td>NaN</td>\n",
       "      <td>NaN</td>\n",
       "      <td>NaN</td>\n",
       "      <td>NaN</td>\n",
       "      <td>NaN</td>\n",
       "      <td>NaN</td>\n",
       "      <td>NaN</td>\n",
       "      <td>NaN</td>\n",
       "      <td>...</td>\n",
       "      <td>NaN</td>\n",
       "      <td>NaN</td>\n",
       "      <td>NaN</td>\n",
       "      <td>NaN</td>\n",
       "      <td>NaN</td>\n",
       "      <td>NaN</td>\n",
       "      <td>NaN</td>\n",
       "      <td>NaN</td>\n",
       "      <td>NaN</td>\n",
       "      <td>NaN</td>\n",
       "    </tr>\n",
       "    <tr>\n",
       "      <th>6</th>\n",
       "      <td>NaN</td>\n",
       "      <td>NaN</td>\n",
       "      <td>NaN</td>\n",
       "      <td>NaN</td>\n",
       "      <td>NaN</td>\n",
       "      <td>NaN</td>\n",
       "      <td>NaN</td>\n",
       "      <td>NaN</td>\n",
       "      <td>NaN</td>\n",
       "      <td>NaN</td>\n",
       "      <td>...</td>\n",
       "      <td>NaN</td>\n",
       "      <td>NaN</td>\n",
       "      <td>NaN</td>\n",
       "      <td>NaN</td>\n",
       "      <td>NaN</td>\n",
       "      <td>NaN</td>\n",
       "      <td>NaN</td>\n",
       "      <td>NaN</td>\n",
       "      <td>NaN</td>\n",
       "      <td>NaN</td>\n",
       "    </tr>\n",
       "    <tr>\n",
       "      <th>...</th>\n",
       "      <td>...</td>\n",
       "      <td>...</td>\n",
       "      <td>...</td>\n",
       "      <td>...</td>\n",
       "      <td>...</td>\n",
       "      <td>...</td>\n",
       "      <td>...</td>\n",
       "      <td>...</td>\n",
       "      <td>...</td>\n",
       "      <td>...</td>\n",
       "      <td>...</td>\n",
       "      <td>...</td>\n",
       "      <td>...</td>\n",
       "      <td>...</td>\n",
       "      <td>...</td>\n",
       "      <td>...</td>\n",
       "      <td>...</td>\n",
       "      <td>...</td>\n",
       "      <td>...</td>\n",
       "      <td>...</td>\n",
       "      <td>...</td>\n",
       "    </tr>\n",
       "    <tr>\n",
       "      <th>2095</th>\n",
       "      <td>NaN</td>\n",
       "      <td>NaN</td>\n",
       "      <td>NaN</td>\n",
       "      <td>NaN</td>\n",
       "      <td>NaN</td>\n",
       "      <td>NaN</td>\n",
       "      <td>NaN</td>\n",
       "      <td>NaN</td>\n",
       "      <td>NaN</td>\n",
       "      <td>NaN</td>\n",
       "      <td>...</td>\n",
       "      <td>NaN</td>\n",
       "      <td>NaN</td>\n",
       "      <td>NaN</td>\n",
       "      <td>NaN</td>\n",
       "      <td>NaN</td>\n",
       "      <td>NaN</td>\n",
       "      <td>NaN</td>\n",
       "      <td>NaN</td>\n",
       "      <td>NaN</td>\n",
       "      <td>NaN</td>\n",
       "    </tr>\n",
       "    <tr>\n",
       "      <th>2096</th>\n",
       "      <td>NaN</td>\n",
       "      <td>NaN</td>\n",
       "      <td>NaN</td>\n",
       "      <td>NaN</td>\n",
       "      <td>NaN</td>\n",
       "      <td>NaN</td>\n",
       "      <td>NaN</td>\n",
       "      <td>NaN</td>\n",
       "      <td>NaN</td>\n",
       "      <td>NaN</td>\n",
       "      <td>...</td>\n",
       "      <td>NaN</td>\n",
       "      <td>NaN</td>\n",
       "      <td>NaN</td>\n",
       "      <td>NaN</td>\n",
       "      <td>NaN</td>\n",
       "      <td>NaN</td>\n",
       "      <td>NaN</td>\n",
       "      <td>NaN</td>\n",
       "      <td>NaN</td>\n",
       "      <td>NaN</td>\n",
       "    </tr>\n",
       "    <tr>\n",
       "      <th>2097</th>\n",
       "      <td>NaN</td>\n",
       "      <td>NaN</td>\n",
       "      <td>NaN</td>\n",
       "      <td>NaN</td>\n",
       "      <td>NaN</td>\n",
       "      <td>NaN</td>\n",
       "      <td>NaN</td>\n",
       "      <td>NaN</td>\n",
       "      <td>NaN</td>\n",
       "      <td>NaN</td>\n",
       "      <td>...</td>\n",
       "      <td>NaN</td>\n",
       "      <td>NaN</td>\n",
       "      <td>NaN</td>\n",
       "      <td>NaN</td>\n",
       "      <td>NaN</td>\n",
       "      <td>NaN</td>\n",
       "      <td>NaN</td>\n",
       "      <td>NaN</td>\n",
       "      <td>NaN</td>\n",
       "      <td>NaN</td>\n",
       "    </tr>\n",
       "    <tr>\n",
       "      <th>2099</th>\n",
       "      <td>NaN</td>\n",
       "      <td>NaN</td>\n",
       "      <td>NaN</td>\n",
       "      <td>NaN</td>\n",
       "      <td>NaN</td>\n",
       "      <td>NaN</td>\n",
       "      <td>NaN</td>\n",
       "      <td>NaN</td>\n",
       "      <td>NaN</td>\n",
       "      <td>NaN</td>\n",
       "      <td>...</td>\n",
       "      <td>NaN</td>\n",
       "      <td>NaN</td>\n",
       "      <td>NaN</td>\n",
       "      <td>NaN</td>\n",
       "      <td>NaN</td>\n",
       "      <td>NaN</td>\n",
       "      <td>NaN</td>\n",
       "      <td>NaN</td>\n",
       "      <td>NaN</td>\n",
       "      <td>NaN</td>\n",
       "    </tr>\n",
       "    <tr>\n",
       "      <th>2100</th>\n",
       "      <td>NaN</td>\n",
       "      <td>NaN</td>\n",
       "      <td>NaN</td>\n",
       "      <td>NaN</td>\n",
       "      <td>NaN</td>\n",
       "      <td>NaN</td>\n",
       "      <td>NaN</td>\n",
       "      <td>NaN</td>\n",
       "      <td>NaN</td>\n",
       "      <td>NaN</td>\n",
       "      <td>...</td>\n",
       "      <td>NaN</td>\n",
       "      <td>NaN</td>\n",
       "      <td>NaN</td>\n",
       "      <td>NaN</td>\n",
       "      <td>NaN</td>\n",
       "      <td>NaN</td>\n",
       "      <td>NaN</td>\n",
       "      <td>NaN</td>\n",
       "      <td>NaN</td>\n",
       "      <td>NaN</td>\n",
       "    </tr>\n",
       "  </tbody>\n",
       "</table>\n",
       "<p>1892 rows × 17632 columns</p>\n",
       "</div>"
      ],
      "text/plain": [
       "artistID  !!!  !DISTAIN  !deladap  #####  #2 Orchestra  $lick  \\\n",
       "userID                                                          \n",
       "2         NaN       NaN       NaN    NaN           NaN    NaN   \n",
       "3         NaN       NaN       NaN    NaN           NaN    NaN   \n",
       "4         NaN       NaN       NaN    NaN           NaN    NaN   \n",
       "5         NaN       NaN       NaN    NaN           NaN    NaN   \n",
       "6         NaN       NaN       NaN    NaN           NaN    NaN   \n",
       "...       ...       ...       ...    ...           ...    ...   \n",
       "2095      NaN       NaN       NaN    NaN           NaN    NaN   \n",
       "2096      NaN       NaN       NaN    NaN           NaN    NaN   \n",
       "2097      NaN       NaN       NaN    NaN           NaN    NaN   \n",
       "2099      NaN       NaN       NaN    NaN           NaN    NaN   \n",
       "2100      NaN       NaN       NaN    NaN           NaN    NaN   \n",
       "\n",
       "artistID  $lick feat. Six-Fo  (1962-1966)  (Pre) Kingdom  \\\n",
       "userID                                                     \n",
       "2                        NaN          NaN            NaN   \n",
       "3                        NaN          NaN            NaN   \n",
       "4                        NaN          NaN            NaN   \n",
       "5                        NaN          NaN            NaN   \n",
       "6                        NaN          NaN            NaN   \n",
       "...                      ...          ...            ...   \n",
       "2095                     NaN          NaN            NaN   \n",
       "2096                     NaN          NaN            NaN   \n",
       "2097                     NaN          NaN            NaN   \n",
       "2099                     NaN          NaN            NaN   \n",
       "2100                     NaN          NaN            NaN   \n",
       "\n",
       "artistID  (We Are) Performance  ...  티아라  현아  ＬｕＬｕ  ＭＡＮＮＥＱＵＩＮ  ＰＥＲＥＳＴＲＯＩＫＡ  \\\n",
       "userID                          ...                                          \n",
       "2                          NaN  ...  NaN NaN   NaN        NaN          NaN   \n",
       "3                          NaN  ...  NaN NaN   NaN        NaN          NaN   \n",
       "4                          NaN  ...  NaN NaN   NaN        NaN          NaN   \n",
       "5                          NaN  ...  NaN NaN   NaN        NaN          NaN   \n",
       "6                          NaN  ...  NaN NaN   NaN        NaN          NaN   \n",
       "...                        ...  ...  ...  ..   ...        ...          ...   \n",
       "2095                       NaN  ...  NaN NaN   NaN        NaN          NaN   \n",
       "2096                       NaN  ...  NaN NaN   NaN        NaN          NaN   \n",
       "2097                       NaN  ...  NaN NaN   NaN        NaN          NaN   \n",
       "2099                       NaN  ...  NaN NaN   NaN        NaN          NaN   \n",
       "2100                       NaN  ...  NaN NaN   NaN        NaN          NaN   \n",
       "\n",
       "artistID  ＲＥＤ  ＶａｎｅｓｓＡ  ｂｏｏｇｉｅｍａｎ  ｂｏｒｎ  ｍａｃｈｉｎｅ  \n",
       "userID                                            \n",
       "2         NaN      NaN        NaN   NaN      NaN  \n",
       "3         NaN      NaN        NaN   NaN      NaN  \n",
       "4         NaN      NaN        NaN   NaN      NaN  \n",
       "5         NaN      NaN        NaN   NaN      NaN  \n",
       "6         NaN      NaN        NaN   NaN      NaN  \n",
       "...       ...      ...        ...   ...      ...  \n",
       "2095      NaN      NaN        NaN   NaN      NaN  \n",
       "2096      NaN      NaN        NaN   NaN      NaN  \n",
       "2097      NaN      NaN        NaN   NaN      NaN  \n",
       "2099      NaN      NaN        NaN   NaN      NaN  \n",
       "2100      NaN      NaN        NaN   NaN      NaN  \n",
       "\n",
       "[1892 rows x 17632 columns]"
      ]
     },
     "execution_count": 4,
     "metadata": {},
     "output_type": "execute_result"
    }
   ],
   "source": [
    "# the tags file was read and saved as a dict.\n",
    "tags = pd.read_csv('/mnt/data/public/hetrec2011/lastfm/tags.dat', sep='\\t',\n",
    "                   encoding='latin', index_col=0).to_dict()['tagValue']\n",
    "\n",
    "# all artists and their IDs are read and saved to a dict.\n",
    "artists = pd.read_csv('/mnt/data/public/hetrec2011/lastfm/artists.dat',\n",
    "                      sep='\\t', index_col=0)\n",
    "artist_dict = artists['name'].to_dict()\n",
    "\n",
    "# file with users and their tags for artists\n",
    "tag_year = pd.read_csv('/mnt/data/public/hetrec2011/lastfm/'\n",
    "                       'user_taggedartists.dat', sep='\\t')\n",
    "# replacing IDs with tags and artist names\n",
    "tag_year.replace({'tagID': tags}, inplace=True)\n",
    "tag_year.replace({'artistID':artist_dict}, inplace=True)\n",
    "\n",
    "# artists with all their tags\n",
    "artist_tags = tag_year.groupby('artistID')['tagID'].apply(set)\n",
    "\n",
    "# friends file\n",
    "friends = pd.read_csv('/mnt/data/public/hetrec2011/lastfm/user_friends.dat',\n",
    "                      sep='\\t').groupby('userID')['friendID']\n",
    "\n",
    "# users and their listening counts for some artists\n",
    "# artist IDs replaced with names\n",
    "user_artists = (pd.read_csv('/mnt/data/public/hetrec2011/lastfm/'\n",
    "                           'user_artists.dat', sep='\\t')\n",
    "                .replace({'artistID':artist_dict}))\n",
    "# pivot table for users and their listening counts for all artists.\n",
    "user_artists_2 = pd.pivot_table(user_artists, 'weight', 'userID', 'artistID',\n",
    "                                np.nanmean)\n",
    "# viewing the pivot table\n",
    "user_artists_2"
   ]
  },
  {
   "cell_type": "markdown",
   "metadata": {},
   "source": [
    "###  🎻 Exploratory Data Analysis\n",
    "\n",
    "All raw data files do not contain null values."
   ]
  },
  {
   "cell_type": "code",
   "execution_count": 5,
   "metadata": {
    "ExecuteTime": {
     "end_time": "2020-11-02T06:54:19.108956Z",
     "start_time": "2020-11-02T06:54:18.445417Z"
    }
   },
   "outputs": [
    {
     "data": {
      "image/png": "[encoded data removed]",
      "text/plain": [
       "<Figure size 864x360 with 2 Axes>"
      ]
     },
     "metadata": {},
     "output_type": "display_data"
    }
   ],
   "source": [
    "fig, ax = plt.subplots(1,2, figsize=(12, 5), sharey=True)\n",
    "sns.barplot(x='artistID', y='index',\n",
    "            data=user_artists.artistID.value_counts()[:10].reset_index(),\n",
    "            ax=ax[0])\n",
    "ax[0].set(xlabel=\"Count\", ylabel = \"Artist\")\n",
    "sns.scatterplot(x='weight', y='index',\n",
    "                data=(user_artists.groupby('artistID')['weight'].mean()\n",
    "                      .loc[user_artists.artistID.value_counts()[:10].index]\n",
    "                      .reset_index()), ax=ax[1])\n",
    "ax[1].set(xlabel=\"Average Listening Count\", ylabel = \"Artist\")\n",
    "plt.tight_layout()\n",
    "\n",
    "plt.suptitle('Figure 1. Top artists and their average listening count',\n",
    "             y=1.05);"
   ]
  },
  {
   "cell_type": "markdown",
   "metadata": {},
   "source": [
    "The top artists and their average listening count can be seen above."
   ]
  },
  {
   "cell_type": "markdown",
   "metadata": {},
   "source": [
    "###  🎻 User Info\n",
    "\n",
    "The user #179 was chosen for the analysis. The particular user was chosen because of interpretability of its results and the user having enough friends to conduct the Hybrid IB with the friend only neighborhood."
   ]
  },
  {
   "cell_type": "code",
   "execution_count": 6,
   "metadata": {
    "ExecuteTime": {
     "end_time": "2020-11-02T06:54:19.113209Z",
     "start_time": "2020-11-02T06:54:19.110673Z"
    }
   },
   "outputs": [],
   "source": [
    "user = 179"
   ]
  },
  {
   "cell_type": "code",
   "execution_count": 7,
   "metadata": {
    "ExecuteTime": {
     "end_time": "2020-11-02T06:54:19.120792Z",
     "start_time": "2020-11-02T06:54:19.115865Z"
    }
   },
   "outputs": [
    {
     "data": {
      "text/plain": [
       "['Lady Gaga',\n",
       " 'Britney Spears',\n",
       " 'Linkin Park',\n",
       " 'Porcelain and the Tramps',\n",
       " 'Lindsay Lohan',\n",
       " 'Christina Aguilera',\n",
       " 'Placebo',\n",
       " 'Michael Jackson',\n",
       " 'The Cure',\n",
       " 'Porcelain Black']"
      ]
     },
     "execution_count": 7,
     "metadata": {},
     "output_type": "execute_result"
    }
   ],
   "source": [
    "# viewing the top 10 artists of the user\n",
    "list(user_artists_2.loc[user].dropna().sort_values(ascending=False)\n",
    "     .index[:10])"
   ]
  },
  {
   "cell_type": "markdown",
   "metadata": {},
   "source": [
    "The particular vibe of this user can be understood by these artists. I would predict the user to be an emo teen girl.\n",
    "\n",
    "Lady Gaga | Britney Spears | Linkin Park\n",
    "- | - | -\n",
    "<img src = 'https://i.pinimg.com/originals/91/d7/93/91d793c5eb3e65477d02ab3640b6485e.jpg' width=250> | <img src = 'https://www.rollingstone.com/wp-content/uploads/2018/06/britney-spears-toxic-3dc5bdf2-c657-46d0-ba5f-e9d6f0b63b20.jpg?w=800' width=400> | <img src = 'https://i0.wp.com/www.altwire.net/wp-content/uploads/2015/10/LPHybridTheory.jpg' width=400>\n",
    "\n",
    "Porcelain Black | Lindsay Lohan | Christina Aguilera\n",
    "- | - | -\n",
    "<img src = https://64.media.tumblr.com/6b1ba4e1f1c54e9ce47013b3de1d0285/tumblr_pgogpjJDsR1sb5rq6o1_400.jpg width=350> | <img src = 'https://img.discogs.com/HkKwQ_qBhEu2A84s-boSTNmczog=/fit-in/600x594/filters:strip_icc():format(jpeg):mode_rgb():quality(90)/discogs-images/R-3651557-1469005517-8207.png.jpg' width=400> | <img src=https://m.media-amazon.com/images/I/6167jXuVcBL.jpg width=500>\n",
    "\n",
    "To give an idea of the kind of music they produced, the top song of Lady Gaga from that era is attached below."
   ]
  },
  {
   "cell_type": "code",
   "execution_count": 8,
   "metadata": {
    "ExecuteTime": {
     "end_time": "2020-11-02T06:54:21.274583Z",
     "start_time": "2020-11-02T06:54:19.122807Z"
    }
   },
   "outputs": [
    {
     "data": {
      "image/jpeg": "[encoded data removed]",
      "text/html": [
       "\n",
       "        <iframe\n",
       "            width=\"950\"\n",
       "            height=\"300\"\n",
       "            src=\"https://www.youtube.com/embed/bESGLojNYSo\"\n",
       "            frameborder=\"0\"\n",
       "            allowfullscreen\n",
       "        ></iframe>\n",
       "        "
      ],
      "text/plain": [
       "<IPython.lib.display.YouTubeVideo at 0x7f27caf50eb0>"
      ]
     },
     "execution_count": 8,
     "metadata": {},
     "output_type": "execute_result"
    }
   ],
   "source": [
    "from IPython.display import YouTubeVideo\n",
    "YouTubeVideo('bESGLojNYSo', width=950, height=300)"
   ]
  },
  {
   "cell_type": "markdown",
   "metadata": {},
   "source": [
    "The most common tags of these artists are found below. <b> It is assumed that the user would want to explore artists with similar tags. <b>"
   ]
  },
  {
   "cell_type": "code",
   "execution_count": 9,
   "metadata": {
    "ExecuteTime": {
     "end_time": "2020-11-02T06:54:21.335462Z",
     "start_time": "2020-11-02T06:54:21.277193Z"
    },
    "scrolled": true
   },
   "outputs": [
    {
     "data": {
      "text/plain": [
       "[('alternative', 9),\n",
       " ('awesome', 9),\n",
       " ('rock', 9),\n",
       " ('favorites', 8),\n",
       " ('pop', 8),\n",
       " ('sexy', 8),\n",
       " ('00s', 7),\n",
       " ('amazing', 7),\n",
       " ('electronic', 7),\n",
       " ('epic', 7),\n",
       " ('love', 7),\n",
       " ('love at first listen', 7),\n",
       " ('sad', 7),\n",
       " ('soundtrack', 7),\n",
       " ('piano', 6)]"
      ]
     },
     "execution_count": 9,
     "metadata": {},
     "output_type": "execute_result"
    }
   ],
   "source": [
    "tags_ = []\n",
    "for i in list(user_artists_2.loc[user].dropna().sort_values(ascending=False)\n",
    "              .index[:10]):\n",
    "    try:\n",
    "        tags_.append(list(artist_tags.to_dict()[i]))\n",
    "    except:\n",
    "        tags_.append([])\n",
    "    \n",
    "res1 = sorted(Counter(list(itertools.chain(*tags_))).most_common(15),\n",
    "              key=lambda x:(-x[1], x[0]))\n",
    "res1"
   ]
  },
  {
   "cell_type": "markdown",
   "metadata": {},
   "source": [
    "However, the particular tags given by this user for the artists are the following:"
   ]
  },
  {
   "cell_type": "code",
   "execution_count": 10,
   "metadata": {
    "ExecuteTime": {
     "end_time": "2020-11-02T06:54:21.350528Z",
     "start_time": "2020-11-02T06:54:21.337260Z"
    }
   },
   "outputs": [
    {
     "data": {
      "text/plain": [
       "hip hop                                    1\n",
       "female vocalists                           1\n",
       "cool                                       1\n",
       "pop                                        1\n",
       "diva                                       1\n",
       "great voice                                1\n",
       "dance                                      1\n",
       "ballad                                     1\n",
       "industrial                                 1\n",
       "why on earth is this just a bonus track    1\n",
       "piano                                      1\n",
       "love                                       1\n",
       "sexy                                       1\n",
       "Name: tagID, dtype: int64"
      ]
     },
     "execution_count": 10,
     "metadata": {},
     "output_type": "execute_result"
    }
   ],
   "source": [
    "tag_year[tag_year.userID==user].tagID.value_counts()"
   ]
  },
  {
   "cell_type": "markdown",
   "metadata": {},
   "source": [
    "###  🎻 Preprocessing\n",
    "\n",
    "The weight or the listening count is in the range of 1 and 352698 and is not in the form of a fixed rating range and therefore needs to be preprocessed. The MinMax scaling is appropriate for such situations."
   ]
  },
  {
   "cell_type": "code",
   "execution_count": 11,
   "metadata": {
    "ExecuteTime": {
     "end_time": "2020-11-02T06:54:21.361990Z",
     "start_time": "2020-11-02T06:54:21.352269Z"
    }
   },
   "outputs": [
    {
     "data": {
      "text/plain": [
       "count     92834.00000\n",
       "mean        745.24393\n",
       "std        3751.32208\n",
       "min           1.00000\n",
       "25%         107.00000\n",
       "50%         260.00000\n",
       "75%         614.00000\n",
       "max      352698.00000\n",
       "Name: weight, dtype: float64"
      ]
     },
     "execution_count": 11,
     "metadata": {},
     "output_type": "execute_result"
    }
   ],
   "source": [
    "user_artists['weight'].describe()"
   ]
  },
  {
   "cell_type": "code",
   "execution_count": 12,
   "metadata": {
    "ExecuteTime": {
     "end_time": "2020-11-02T06:54:24.283975Z",
     "start_time": "2020-11-02T06:54:21.363667Z"
    }
   },
   "outputs": [],
   "source": [
    "mins = user_artists_2.min(1)\n",
    "maxs = user_artists_2.max(1)\n",
    "\n",
    "df_minmax = pd.DataFrame([((user_artists_2.iloc[i].sub(mins.iloc[i]))\n",
    "                           /(maxs.iloc[i]-mins.iloc[i]))\n",
    "                    for i in range(user_artists_2.shape[0])])\n",
    "df_minmax_2 = df_minmax.to_numpy()"
   ]
  },
  {
   "cell_type": "markdown",
   "metadata": {},
   "source": [
    "## 🎸 Memory Based Filtering\n",
    "\n",
    "### 🎸 User-Based Collaborative Filtering"
   ]
  },
  {
   "cell_type": "code",
   "execution_count": 13,
   "metadata": {
    "ExecuteTime": {
     "end_time": "2020-11-02T06:54:27.985284Z",
     "start_time": "2020-11-02T06:54:24.286108Z"
    }
   },
   "outputs": [],
   "source": [
    "from scipy.spatial.distance import cosine\n",
    "\n",
    "user_num = np.where(df_minmax[df_minmax.index==user].notna())[1]\n",
    "user_not = np.where(df_minmax[df_minmax.index==user].isna())[1]\n",
    "\n",
    "cos = []\n",
    "for row in range(df_minmax.shape[0]):\n",
    "    if row!=np.where(df_minmax.index==user)[0]:\n",
    "        user2_num = np.where(df_minmax.iloc[row].notna())[0]\n",
    "        user2_not = np.where(df_minmax.iloc[row].isna())[0]\n",
    "        idx = list(set(user_num).intersection(user2_num))\n",
    "        cos.append((row, cosine(df_minmax.iloc[:, idx].loc[user],\n",
    "                                df_minmax.iloc[row, idx])))\n",
    "    else:\n",
    "        cos.append((row, np.nan))\n",
    "\n",
    "sort = pd.DataFrame(cos).dropna()\n",
    "sort[2] = np.abs(sort[1])\n",
    "sort = sort.sort_values(by=2)[:30]\n",
    "similar = sort[0].tolist()\n",
    "weights = (1 - sort[1]).tolist()\n",
    "similar_2 = pd.DataFrame(df_minmax.iloc[similar]).dropna(how='all',\n",
    "                                                           axis=1)\n",
    "\n",
    "recos_user = [i[0] for i in\n",
    "            sorted((similar_2.mul(weights, 0).mean(0).reset_index().to_numpy()\n",
    "                .tolist()), key=lambda x: (-x[1], x[0]))[:10]]"
   ]
  },
  {
   "cell_type": "code",
   "execution_count": 14,
   "metadata": {
    "ExecuteTime": {
     "end_time": "2020-11-02T06:54:28.455997Z",
     "start_time": "2020-11-02T06:54:27.987310Z"
    }
   },
   "outputs": [
    {
     "data": {
      "image/jpeg": "[encoded data removed]",
      "text/html": [
       "\n",
       "        <iframe\n",
       "            width=\"950\"\n",
       "            height=\"300\"\n",
       "            src=\"https://www.youtube.com/embed/gJXlZ6SjRI8\"\n",
       "            frameborder=\"0\"\n",
       "            allowfullscreen\n",
       "        ></iframe>\n",
       "        "
      ],
      "text/plain": [
       "<IPython.lib.display.YouTubeVideo at 0x7f27cae22be0>"
      ]
     },
     "execution_count": 14,
     "metadata": {},
     "output_type": "execute_result"
    }
   ],
   "source": [
    "YouTubeVideo('gJXlZ6SjRI8', width=950, height=300)"
   ]
  },
  {
   "cell_type": "code",
   "execution_count": 15,
   "metadata": {
    "ExecuteTime": {
     "end_time": "2020-11-02T06:54:28.511387Z",
     "start_time": "2020-11-02T06:54:28.458940Z"
    }
   },
   "outputs": [
    {
     "data": {
      "text/plain": [
       "[('alternative', 3),\n",
       " ('indie', 3),\n",
       " ('instrumental', 3),\n",
       " ('seen live', 3),\n",
       " ('90s', 2),\n",
       " ('acoustic', 2),\n",
       " ('ambient', 2),\n",
       " ('chillout', 2),\n",
       " ('folk', 2),\n",
       " ('indie folk', 2),\n",
       " ('indie pop', 2),\n",
       " ('lo-fi', 2),\n",
       " ('mellow', 2),\n",
       " ('new wave', 2),\n",
       " ('singer-songwriter', 2)]"
      ]
     },
     "execution_count": 15,
     "metadata": {},
     "output_type": "execute_result"
    }
   ],
   "source": [
    "tags_ = []\n",
    "for i in recos_user:\n",
    "    try:\n",
    "        tags_.append(list(artist_tags.to_dict()[i]))\n",
    "    except:\n",
    "        tags_.append([])\n",
    "    \n",
    "res2 = sorted(Counter(list(itertools.chain(*tags_))).most_common(15),\n",
    "              key=lambda x:(-x[1], x[0]))\n",
    "res2"
   ]
  },
  {
   "cell_type": "markdown",
   "metadata": {},
   "source": [
    "There are a few common tags and the rest are similar. However, listening to the audio, it appears to be far from desired."
   ]
  },
  {
   "cell_type": "markdown",
   "metadata": {},
   "source": [
    "### 🎸 Item-Based Collaborative Filtering"
   ]
  },
  {
   "cell_type": "code",
   "execution_count": 16,
   "metadata": {
    "ExecuteTime": {
     "end_time": "2020-11-02T06:54:31.478904Z",
     "start_time": "2020-11-02T06:54:28.513136Z"
    }
   },
   "outputs": [],
   "source": [
    "df_melt = (df_minmax.reset_index()\n",
    "                .melt('index', var_name='artistID', value_name='weight')\n",
    "                .dropna())"
   ]
  },
  {
   "cell_type": "code",
   "execution_count": 17,
   "metadata": {
    "ExecuteTime": {
     "end_time": "2020-11-02T06:54:34.390946Z",
     "start_time": "2020-11-02T06:54:31.480448Z"
    }
   },
   "outputs": [
    {
     "name": "stdout",
     "output_type": "stream",
     "text": [
      "Computing the pearson similarity matrix...\n",
      "Done computing similarity matrix.\n"
     ]
    },
    {
     "data": {
      "text/plain": [
       "<surprise.prediction_algorithms.knns.KNNWithMeans at 0x7f27cadd5100>"
      ]
     },
     "execution_count": 17,
     "metadata": {},
     "output_type": "execute_result"
    }
   ],
   "source": [
    "from surprise import (Reader, Dataset, KNNWithMeans)\n",
    "\n",
    "knn = KNNWithMeans(k=30, sim_options={'name': 'pearson', 'item_based': True})\n",
    "\n",
    "reader = Reader(rating_scale=(0, 1)) # 1, 352698\n",
    "dataset = Dataset.load_from_df(df_melt, reader)\n",
    "\n",
    "knn.fit(dataset.build_full_trainset())"
   ]
  },
  {
   "cell_type": "code",
   "execution_count": 18,
   "metadata": {
    "ExecuteTime": {
     "end_time": "2020-11-02T06:54:35.704016Z",
     "start_time": "2020-11-02T06:54:34.392952Z"
    }
   },
   "outputs": [
    {
     "data": {
      "text/plain": [
       "['Adriana',\n",
       " 'Ajda Pekkan',\n",
       " 'Amycanbe',\n",
       " 'Dokken',\n",
       " 'F.L.A.B',\n",
       " 'Farewell',\n",
       " 'Gary Revel',\n",
       " 'Gnawa Diffusion',\n",
       " 'Hande Yener',\n",
       " 'Heartscore']"
      ]
     },
     "execution_count": 18,
     "metadata": {},
     "output_type": "execute_result"
    }
   ],
   "source": [
    "predictions = []\n",
    "for col in user_artists_2.loc[user][user_artists_2.loc[user].isna()].index:\n",
    "    predictions.append(knn.predict(user, col))\n",
    "predictions = [i[1] for i in sorted(predictions, key=lambda x:-x[3])[:10]]\n",
    "predictions"
   ]
  },
  {
   "cell_type": "code",
   "execution_count": 19,
   "metadata": {
    "ExecuteTime": {
     "end_time": "2020-11-02T06:54:35.820796Z",
     "start_time": "2020-11-02T06:54:35.705685Z"
    }
   },
   "outputs": [
    {
     "data": {
      "image/jpeg": "[encoded data removed]",
      "text/html": [
       "\n",
       "        <iframe\n",
       "            width=\"950\"\n",
       "            height=\"300\"\n",
       "            src=\"https://www.youtube.com/embed/da6bSxlhxP0\"\n",
       "            frameborder=\"0\"\n",
       "            allowfullscreen\n",
       "        ></iframe>\n",
       "        "
      ],
      "text/plain": [
       "<IPython.lib.display.YouTubeVideo at 0x7f27cadd5130>"
      ]
     },
     "execution_count": 19,
     "metadata": {},
     "output_type": "execute_result"
    }
   ],
   "source": [
    "YouTubeVideo('da6bSxlhxP0', width=950, height=300)"
   ]
  },
  {
   "cell_type": "code",
   "execution_count": 20,
   "metadata": {
    "ExecuteTime": {
     "end_time": "2020-11-02T06:54:35.880702Z",
     "start_time": "2020-11-02T06:54:35.823269Z"
    }
   },
   "outputs": [
    {
     "data": {
      "text/plain": [
       "[('pop', 4),\n",
       " ('acoustic', 3),\n",
       " ('female vocalists', 3),\n",
       " ('rock', 3),\n",
       " ('alternative', 2),\n",
       " ('alternative rock', 2),\n",
       " ('electronic', 2),\n",
       " ('1993', 1),\n",
       " ('ajda forever', 1),\n",
       " ('brazilian', 1),\n",
       " ('catholic', 1),\n",
       " ('diva', 1),\n",
       " ('religious', 1),\n",
       " ('seen live', 1),\n",
       " ('turkish pop', 1)]"
      ]
     },
     "execution_count": 20,
     "metadata": {},
     "output_type": "execute_result"
    }
   ],
   "source": [
    "tags_ = []\n",
    "for i in predictions:\n",
    "    try:\n",
    "        tags_.append(list(artist_tags.to_dict()[i]))\n",
    "    except:\n",
    "        tags_.append([])\n",
    "    \n",
    "res3 = sorted(Counter(list(itertools.chain(*tags_))).most_common(15),\n",
    "              key=lambda x:(-x[1], x[0]))\n",
    "res3"
   ]
  },
  {
   "cell_type": "markdown",
   "metadata": {},
   "source": [
    "The number of common tags seem to have improved but in doing so, 9 out of the top 10 artists are of different languages. This brings the need to merge similar users in hopes of fitting the language and regional filters."
   ]
  },
  {
   "cell_type": "markdown",
   "metadata": {},
   "source": [
    "## 🎷 Model Based Filtering\n",
    "\n",
    "Various methods from the surprise module were tried. The best results here were achieved by the Non-negative matrix factorization (NMF) method.\n",
    "\n",
    "###  🎷 NMF Factorization"
   ]
  },
  {
   "cell_type": "code",
   "execution_count": 21,
   "metadata": {
    "ExecuteTime": {
     "end_time": "2020-11-02T06:54:42.867352Z",
     "start_time": "2020-11-02T06:54:35.882879Z"
    }
   },
   "outputs": [
    {
     "data": {
      "text/plain": [
       "<surprise.prediction_algorithms.matrix_factorization.NMF at 0x7f27cadda0d0>"
      ]
     },
     "execution_count": 21,
     "metadata": {},
     "output_type": "execute_result"
    }
   ],
   "source": [
    "from surprise import (SVD, SlopeOne, CoClustering, SVDpp, NMF)\n",
    "\n",
    "reader = Reader(rating_scale=(1, 352698))\n",
    "dataset = Dataset.load_from_df(user_artists, reader)\n",
    "algo = NMF(random_state=1)\n",
    "# algo = CoClustering(200, 150, 20, 1)\n",
    "# algo = SlopOne()\n",
    "algo.fit(dataset.build_full_trainset())"
   ]
  },
  {
   "cell_type": "code",
   "execution_count": 22,
   "metadata": {
    "ExecuteTime": {
     "end_time": "2020-11-02T06:54:43.031919Z",
     "start_time": "2020-11-02T06:54:42.870557Z"
    }
   },
   "outputs": [
    {
     "data": {
      "text/plain": [
       "['Blood Ruby',\n",
       " 'Mushroomhead',\n",
       " 'HIM',\n",
       " 'Viking Quest',\n",
       " 'Reba McEntire',\n",
       " 'e-gens',\n",
       " 'The Films',\n",
       " 'Blur',\n",
       " 'Rick GhraphiXxX',\n",
       " 'Simple Minds']"
      ]
     },
     "execution_count": 22,
     "metadata": {},
     "output_type": "execute_result"
    }
   ],
   "source": [
    "predictions = []\n",
    "for col in user_artists_2.loc[user][user_artists_2.loc[user].isna()].index:\n",
    "    predictions.append(algo.predict(user, col))\n",
    "predictions = [i[1] for i in sorted(predictions, key=lambda x:-x[3])[:10]]\n",
    "predictions"
   ]
  },
  {
   "cell_type": "code",
   "execution_count": 23,
   "metadata": {
    "ExecuteTime": {
     "end_time": "2020-11-02T06:54:43.158210Z",
     "start_time": "2020-11-02T06:54:43.033626Z"
    }
   },
   "outputs": [
    {
     "data": {
      "image/jpeg": "[encoded data removed]",
      "text/html": [
       "\n",
       "        <iframe\n",
       "            width=\"950\"\n",
       "            height=\"300\"\n",
       "            src=\"https://www.youtube.com/embed/ca42iMix5DE\"\n",
       "            frameborder=\"0\"\n",
       "            allowfullscreen\n",
       "        ></iframe>\n",
       "        "
      ],
      "text/plain": [
       "<IPython.lib.display.YouTubeVideo at 0x7f278c298970>"
      ]
     },
     "execution_count": 23,
     "metadata": {},
     "output_type": "execute_result"
    }
   ],
   "source": [
    "YouTubeVideo('ca42iMix5DE', width=950, height=300)"
   ]
  },
  {
   "cell_type": "code",
   "execution_count": 24,
   "metadata": {
    "ExecuteTime": {
     "end_time": "2020-11-02T06:54:43.216723Z",
     "start_time": "2020-11-02T06:54:43.165852Z"
    }
   },
   "outputs": [
    {
     "data": {
      "text/plain": [
       "[('alternative', 7),\n",
       " ('pop', 5),\n",
       " ('rock', 5),\n",
       " ('90s', 4),\n",
       " ('alternative rock', 4),\n",
       " ('indie', 4),\n",
       " ('new wave', 4),\n",
       " ('britpop', 3),\n",
       " ('chillout', 3),\n",
       " ('covers', 3),\n",
       " ('darkwave', 3),\n",
       " ('gothic', 3),\n",
       " ('gothic rock', 3),\n",
       " ('indie rock', 3),\n",
       " ('singer-songwriter', 3)]"
      ]
     },
     "execution_count": 24,
     "metadata": {},
     "output_type": "execute_result"
    }
   ],
   "source": [
    "tags_ = []\n",
    "for i in predictions:\n",
    "    try:\n",
    "        tags_.append(list(artist_tags.to_dict()[i]))\n",
    "    except:\n",
    "        tags_.append([])\n",
    "    \n",
    "res4 = sorted(Counter(list(itertools.chain(*tags_))).most_common(15),\n",
    "              key=lambda x:(-x[1], x[0]))\n",
    "res4"
   ]
  },
  {
   "cell_type": "markdown",
   "metadata": {},
   "source": [
    "Although the top tags are hit and the rest are similar, the tag of \"sad\" (From user) is different from \"goth\" or \"darkwave\"  which are quite dark and gloomy songs (from recommender system).\n",
    "\n",
    "## 🎺 Combining the Memory Based Filtering Algorithms\n",
    "\n",
    "From the memory based methods, it was hypothesized that a combination of the two would give better results.\n",
    "\n",
    "Vozalis and Margaritis (2004) studied 2 methods: \n",
    "1. Hybrid-Ib, identifies a reasonably large neighbourhood of similar users and then uses this subset to derive the item-based recommendation model.\n",
    "2. Hybrid-CF, starts by locating items similar to the one for which we want a prediction, and then, based on that neighbourhood, it generates its user-based predictions.\n",
    "\n",
    "Only the Hybrid-Ib was used in this project.\n",
    "\n",
    "### 🎺 Hybrid Item Based Filtering\n",
    "\n",
    "The method builds on the previous user based algorithm. Instead of the 30 user neighbors previously used, 100 are used instead. The dataframe output of the 100 users is then inputted into an item based filtering algorithm."
   ]
  },
  {
   "cell_type": "code",
   "execution_count": 25,
   "metadata": {
    "ExecuteTime": {
     "end_time": "2020-11-02T06:54:43.329903Z",
     "start_time": "2020-11-02T06:54:43.219313Z"
    }
   },
   "outputs": [
    {
     "data": {
      "text/html": [
       "<div>\n",
       "<style scoped>\n",
       "    .dataframe tbody tr th:only-of-type {\n",
       "        vertical-align: middle;\n",
       "    }\n",
       "\n",
       "    .dataframe tbody tr th {\n",
       "        vertical-align: top;\n",
       "    }\n",
       "\n",
       "    .dataframe thead th {\n",
       "        text-align: right;\n",
       "    }\n",
       "</style>\n",
       "<table border=\"1\" class=\"dataframe\">\n",
       "  <thead>\n",
       "    <tr style=\"text-align: right;\">\n",
       "      <th>artistID</th>\n",
       "      <th>!!!</th>\n",
       "      <th>!DISTAIN</th>\n",
       "      <th>!deladap</th>\n",
       "      <th>#####</th>\n",
       "      <th>#2 Orchestra</th>\n",
       "      <th>$lick</th>\n",
       "      <th>$lick feat. Six-Fo</th>\n",
       "      <th>(1962-1966)</th>\n",
       "      <th>(Pre) Kingdom</th>\n",
       "      <th>(We Are) Performance</th>\n",
       "      <th>...</th>\n",
       "      <th>티아라</th>\n",
       "      <th>현아</th>\n",
       "      <th>ＬｕＬｕ</th>\n",
       "      <th>ＭＡＮＮＥＱＵＩＮ</th>\n",
       "      <th>ＰＥＲＥＳＴＲＯＩＫＡ</th>\n",
       "      <th>ＲＥＤ</th>\n",
       "      <th>ＶａｎｅｓｓＡ</th>\n",
       "      <th>ｂｏｏｇｉｅｍａｎ</th>\n",
       "      <th>ｂｏｒｎ</th>\n",
       "      <th>ｍａｃｈｉｎｅ</th>\n",
       "    </tr>\n",
       "  </thead>\n",
       "  <tbody>\n",
       "    <tr>\n",
       "      <th>1030</th>\n",
       "      <td>NaN</td>\n",
       "      <td>NaN</td>\n",
       "      <td>NaN</td>\n",
       "      <td>NaN</td>\n",
       "      <td>NaN</td>\n",
       "      <td>NaN</td>\n",
       "      <td>NaN</td>\n",
       "      <td>NaN</td>\n",
       "      <td>NaN</td>\n",
       "      <td>NaN</td>\n",
       "      <td>...</td>\n",
       "      <td>NaN</td>\n",
       "      <td>NaN</td>\n",
       "      <td>NaN</td>\n",
       "      <td>NaN</td>\n",
       "      <td>NaN</td>\n",
       "      <td>NaN</td>\n",
       "      <td>NaN</td>\n",
       "      <td>NaN</td>\n",
       "      <td>NaN</td>\n",
       "      <td>NaN</td>\n",
       "    </tr>\n",
       "    <tr>\n",
       "      <th>1357</th>\n",
       "      <td>NaN</td>\n",
       "      <td>NaN</td>\n",
       "      <td>NaN</td>\n",
       "      <td>NaN</td>\n",
       "      <td>NaN</td>\n",
       "      <td>NaN</td>\n",
       "      <td>NaN</td>\n",
       "      <td>NaN</td>\n",
       "      <td>NaN</td>\n",
       "      <td>NaN</td>\n",
       "      <td>...</td>\n",
       "      <td>NaN</td>\n",
       "      <td>NaN</td>\n",
       "      <td>NaN</td>\n",
       "      <td>NaN</td>\n",
       "      <td>NaN</td>\n",
       "      <td>NaN</td>\n",
       "      <td>NaN</td>\n",
       "      <td>NaN</td>\n",
       "      <td>NaN</td>\n",
       "      <td>NaN</td>\n",
       "    </tr>\n",
       "    <tr>\n",
       "      <th>1358</th>\n",
       "      <td>NaN</td>\n",
       "      <td>NaN</td>\n",
       "      <td>NaN</td>\n",
       "      <td>NaN</td>\n",
       "      <td>NaN</td>\n",
       "      <td>NaN</td>\n",
       "      <td>NaN</td>\n",
       "      <td>NaN</td>\n",
       "      <td>NaN</td>\n",
       "      <td>NaN</td>\n",
       "      <td>...</td>\n",
       "      <td>NaN</td>\n",
       "      <td>NaN</td>\n",
       "      <td>NaN</td>\n",
       "      <td>NaN</td>\n",
       "      <td>NaN</td>\n",
       "      <td>NaN</td>\n",
       "      <td>NaN</td>\n",
       "      <td>NaN</td>\n",
       "      <td>NaN</td>\n",
       "      <td>NaN</td>\n",
       "    </tr>\n",
       "    <tr>\n",
       "      <th>533</th>\n",
       "      <td>NaN</td>\n",
       "      <td>NaN</td>\n",
       "      <td>NaN</td>\n",
       "      <td>NaN</td>\n",
       "      <td>NaN</td>\n",
       "      <td>NaN</td>\n",
       "      <td>NaN</td>\n",
       "      <td>NaN</td>\n",
       "      <td>NaN</td>\n",
       "      <td>NaN</td>\n",
       "      <td>...</td>\n",
       "      <td>NaN</td>\n",
       "      <td>NaN</td>\n",
       "      <td>NaN</td>\n",
       "      <td>NaN</td>\n",
       "      <td>NaN</td>\n",
       "      <td>NaN</td>\n",
       "      <td>NaN</td>\n",
       "      <td>NaN</td>\n",
       "      <td>NaN</td>\n",
       "      <td>NaN</td>\n",
       "    </tr>\n",
       "    <tr>\n",
       "      <th>530</th>\n",
       "      <td>NaN</td>\n",
       "      <td>NaN</td>\n",
       "      <td>NaN</td>\n",
       "      <td>NaN</td>\n",
       "      <td>NaN</td>\n",
       "      <td>NaN</td>\n",
       "      <td>NaN</td>\n",
       "      <td>NaN</td>\n",
       "      <td>NaN</td>\n",
       "      <td>NaN</td>\n",
       "      <td>...</td>\n",
       "      <td>NaN</td>\n",
       "      <td>NaN</td>\n",
       "      <td>NaN</td>\n",
       "      <td>NaN</td>\n",
       "      <td>NaN</td>\n",
       "      <td>NaN</td>\n",
       "      <td>NaN</td>\n",
       "      <td>NaN</td>\n",
       "      <td>NaN</td>\n",
       "      <td>NaN</td>\n",
       "    </tr>\n",
       "    <tr>\n",
       "      <th>...</th>\n",
       "      <td>...</td>\n",
       "      <td>...</td>\n",
       "      <td>...</td>\n",
       "      <td>...</td>\n",
       "      <td>...</td>\n",
       "      <td>...</td>\n",
       "      <td>...</td>\n",
       "      <td>...</td>\n",
       "      <td>...</td>\n",
       "      <td>...</td>\n",
       "      <td>...</td>\n",
       "      <td>...</td>\n",
       "      <td>...</td>\n",
       "      <td>...</td>\n",
       "      <td>...</td>\n",
       "      <td>...</td>\n",
       "      <td>...</td>\n",
       "      <td>...</td>\n",
       "      <td>...</td>\n",
       "      <td>...</td>\n",
       "      <td>...</td>\n",
       "    </tr>\n",
       "    <tr>\n",
       "      <th>889</th>\n",
       "      <td>NaN</td>\n",
       "      <td>NaN</td>\n",
       "      <td>NaN</td>\n",
       "      <td>NaN</td>\n",
       "      <td>NaN</td>\n",
       "      <td>NaN</td>\n",
       "      <td>NaN</td>\n",
       "      <td>NaN</td>\n",
       "      <td>NaN</td>\n",
       "      <td>NaN</td>\n",
       "      <td>...</td>\n",
       "      <td>NaN</td>\n",
       "      <td>NaN</td>\n",
       "      <td>NaN</td>\n",
       "      <td>NaN</td>\n",
       "      <td>NaN</td>\n",
       "      <td>NaN</td>\n",
       "      <td>NaN</td>\n",
       "      <td>NaN</td>\n",
       "      <td>NaN</td>\n",
       "      <td>NaN</td>\n",
       "    </tr>\n",
       "    <tr>\n",
       "      <th>1836</th>\n",
       "      <td>NaN</td>\n",
       "      <td>NaN</td>\n",
       "      <td>NaN</td>\n",
       "      <td>NaN</td>\n",
       "      <td>NaN</td>\n",
       "      <td>NaN</td>\n",
       "      <td>NaN</td>\n",
       "      <td>NaN</td>\n",
       "      <td>NaN</td>\n",
       "      <td>NaN</td>\n",
       "      <td>...</td>\n",
       "      <td>NaN</td>\n",
       "      <td>NaN</td>\n",
       "      <td>NaN</td>\n",
       "      <td>NaN</td>\n",
       "      <td>NaN</td>\n",
       "      <td>NaN</td>\n",
       "      <td>NaN</td>\n",
       "      <td>NaN</td>\n",
       "      <td>NaN</td>\n",
       "      <td>NaN</td>\n",
       "    </tr>\n",
       "    <tr>\n",
       "      <th>1204</th>\n",
       "      <td>NaN</td>\n",
       "      <td>NaN</td>\n",
       "      <td>NaN</td>\n",
       "      <td>NaN</td>\n",
       "      <td>NaN</td>\n",
       "      <td>NaN</td>\n",
       "      <td>NaN</td>\n",
       "      <td>NaN</td>\n",
       "      <td>NaN</td>\n",
       "      <td>NaN</td>\n",
       "      <td>...</td>\n",
       "      <td>NaN</td>\n",
       "      <td>NaN</td>\n",
       "      <td>NaN</td>\n",
       "      <td>NaN</td>\n",
       "      <td>NaN</td>\n",
       "      <td>NaN</td>\n",
       "      <td>NaN</td>\n",
       "      <td>NaN</td>\n",
       "      <td>NaN</td>\n",
       "      <td>NaN</td>\n",
       "    </tr>\n",
       "    <tr>\n",
       "      <th>914</th>\n",
       "      <td>NaN</td>\n",
       "      <td>NaN</td>\n",
       "      <td>NaN</td>\n",
       "      <td>NaN</td>\n",
       "      <td>NaN</td>\n",
       "      <td>NaN</td>\n",
       "      <td>NaN</td>\n",
       "      <td>NaN</td>\n",
       "      <td>NaN</td>\n",
       "      <td>NaN</td>\n",
       "      <td>...</td>\n",
       "      <td>NaN</td>\n",
       "      <td>NaN</td>\n",
       "      <td>NaN</td>\n",
       "      <td>NaN</td>\n",
       "      <td>NaN</td>\n",
       "      <td>NaN</td>\n",
       "      <td>NaN</td>\n",
       "      <td>NaN</td>\n",
       "      <td>NaN</td>\n",
       "      <td>NaN</td>\n",
       "    </tr>\n",
       "    <tr>\n",
       "      <th>179</th>\n",
       "      <td>NaN</td>\n",
       "      <td>NaN</td>\n",
       "      <td>NaN</td>\n",
       "      <td>NaN</td>\n",
       "      <td>NaN</td>\n",
       "      <td>NaN</td>\n",
       "      <td>NaN</td>\n",
       "      <td>NaN</td>\n",
       "      <td>NaN</td>\n",
       "      <td>NaN</td>\n",
       "      <td>...</td>\n",
       "      <td>NaN</td>\n",
       "      <td>NaN</td>\n",
       "      <td>NaN</td>\n",
       "      <td>NaN</td>\n",
       "      <td>NaN</td>\n",
       "      <td>NaN</td>\n",
       "      <td>NaN</td>\n",
       "      <td>NaN</td>\n",
       "      <td>NaN</td>\n",
       "      <td>NaN</td>\n",
       "    </tr>\n",
       "  </tbody>\n",
       "</table>\n",
       "<p>101 rows × 17632 columns</p>\n",
       "</div>"
      ],
      "text/plain": [
       "artistID  !!!  !DISTAIN  !deladap  #####  #2 Orchestra  $lick  \\\n",
       "1030      NaN       NaN       NaN    NaN           NaN    NaN   \n",
       "1357      NaN       NaN       NaN    NaN           NaN    NaN   \n",
       "1358      NaN       NaN       NaN    NaN           NaN    NaN   \n",
       "533       NaN       NaN       NaN    NaN           NaN    NaN   \n",
       "530       NaN       NaN       NaN    NaN           NaN    NaN   \n",
       "...       ...       ...       ...    ...           ...    ...   \n",
       "889       NaN       NaN       NaN    NaN           NaN    NaN   \n",
       "1836      NaN       NaN       NaN    NaN           NaN    NaN   \n",
       "1204      NaN       NaN       NaN    NaN           NaN    NaN   \n",
       "914       NaN       NaN       NaN    NaN           NaN    NaN   \n",
       "179       NaN       NaN       NaN    NaN           NaN    NaN   \n",
       "\n",
       "artistID  $lick feat. Six-Fo  (1962-1966)  (Pre) Kingdom  \\\n",
       "1030                     NaN          NaN            NaN   \n",
       "1357                     NaN          NaN            NaN   \n",
       "1358                     NaN          NaN            NaN   \n",
       "533                      NaN          NaN            NaN   \n",
       "530                      NaN          NaN            NaN   \n",
       "...                      ...          ...            ...   \n",
       "889                      NaN          NaN            NaN   \n",
       "1836                     NaN          NaN            NaN   \n",
       "1204                     NaN          NaN            NaN   \n",
       "914                      NaN          NaN            NaN   \n",
       "179                      NaN          NaN            NaN   \n",
       "\n",
       "artistID  (We Are) Performance  ...  티아라  현아  ＬｕＬｕ  ＭＡＮＮＥＱＵＩＮ  ＰＥＲＥＳＴＲＯＩＫＡ  \\\n",
       "1030                       NaN  ...  NaN NaN   NaN        NaN          NaN   \n",
       "1357                       NaN  ...  NaN NaN   NaN        NaN          NaN   \n",
       "1358                       NaN  ...  NaN NaN   NaN        NaN          NaN   \n",
       "533                        NaN  ...  NaN NaN   NaN        NaN          NaN   \n",
       "530                        NaN  ...  NaN NaN   NaN        NaN          NaN   \n",
       "...                        ...  ...  ...  ..   ...        ...          ...   \n",
       "889                        NaN  ...  NaN NaN   NaN        NaN          NaN   \n",
       "1836                       NaN  ...  NaN NaN   NaN        NaN          NaN   \n",
       "1204                       NaN  ...  NaN NaN   NaN        NaN          NaN   \n",
       "914                        NaN  ...  NaN NaN   NaN        NaN          NaN   \n",
       "179                        NaN  ...  NaN NaN   NaN        NaN          NaN   \n",
       "\n",
       "artistID  ＲＥＤ  ＶａｎｅｓｓＡ  ｂｏｏｇｉｅｍａｎ  ｂｏｒｎ  ｍａｃｈｉｎｅ  \n",
       "1030      NaN      NaN        NaN   NaN      NaN  \n",
       "1357      NaN      NaN        NaN   NaN      NaN  \n",
       "1358      NaN      NaN        NaN   NaN      NaN  \n",
       "533       NaN      NaN        NaN   NaN      NaN  \n",
       "530       NaN      NaN        NaN   NaN      NaN  \n",
       "...       ...      ...        ...   ...      ...  \n",
       "889       NaN      NaN        NaN   NaN      NaN  \n",
       "1836      NaN      NaN        NaN   NaN      NaN  \n",
       "1204      NaN      NaN        NaN   NaN      NaN  \n",
       "914       NaN      NaN        NaN   NaN      NaN  \n",
       "179       NaN      NaN        NaN   NaN      NaN  \n",
       "\n",
       "[101 rows x 17632 columns]"
      ]
     },
     "execution_count": 25,
     "metadata": {},
     "output_type": "execute_result"
    }
   ],
   "source": [
    "sort = pd.DataFrame(cos).dropna()\n",
    "sort[2] = np.abs(sort[1])\n",
    "sort = sort.sort_values(by=2)[:100]\n",
    "similar = sort[0].tolist()\n",
    "similar.append(np.where(df_minmax.index==user)[0][0])\n",
    "weights = (1 - sort[1]).tolist()\n",
    "weights.append(1)\n",
    "similar_2 = pd.DataFrame(df_minmax.iloc[similar])\n",
    "similar_2"
   ]
  },
  {
   "cell_type": "code",
   "execution_count": 26,
   "metadata": {
    "ExecuteTime": {
     "end_time": "2020-11-02T06:54:43.569312Z",
     "start_time": "2020-11-02T06:54:43.331718Z"
    }
   },
   "outputs": [
    {
     "name": "stdout",
     "output_type": "stream",
     "text": [
      "Computing the pearson similarity matrix...\n",
      "Done computing similarity matrix.\n"
     ]
    },
    {
     "data": {
      "text/plain": [
       "<surprise.prediction_algorithms.knns.KNNWithMeans at 0x7f27cadd5f40>"
      ]
     },
     "execution_count": 26,
     "metadata": {},
     "output_type": "execute_result"
    }
   ],
   "source": [
    "df_melt = (similar_2.reset_index()\n",
    "                    .melt('index', var_name='artistID', value_name='weight')\n",
    "                    .dropna())\n",
    "\n",
    "knn = KNNWithMeans(k=30, sim_options={'name': 'pearson', 'item_based': True})\n",
    "reader = Reader(rating_scale=(0, 1)) # 1, 352698\n",
    "dataset = Dataset.load_from_df(df_melt, reader)\n",
    "knn.fit(dataset.build_full_trainset())"
   ]
  },
  {
   "cell_type": "code",
   "execution_count": 27,
   "metadata": {
    "ExecuteTime": {
     "end_time": "2020-11-02T06:54:43.839009Z",
     "start_time": "2020-11-02T06:54:43.571171Z"
    }
   },
   "outputs": [
    {
     "data": {
      "text/plain": [
       "['!!!',\n",
       " '!DISTAIN',\n",
       " '!deladap',\n",
       " '#####',\n",
       " '#2 Orchestra',\n",
       " '$lick',\n",
       " '$lick feat. Six-Fo',\n",
       " '(1962-1966)',\n",
       " '(Pre) Kingdom',\n",
       " '(We Are) Performance']"
      ]
     },
     "execution_count": 27,
     "metadata": {},
     "output_type": "execute_result"
    }
   ],
   "source": [
    "predictions = []\n",
    "for col in user_artists_2.loc[user][user_artists_2.loc[user].isna()].index:\n",
    "    predictions.append(knn.predict(user, col))\n",
    "predictions = [i[1] for i in sorted(predictions, key=lambda x:-x[3])[:10]]    \n",
    "predictions"
   ]
  },
  {
   "cell_type": "code",
   "execution_count": 28,
   "metadata": {
    "ExecuteTime": {
     "end_time": "2020-11-02T06:54:43.949592Z",
     "start_time": "2020-11-02T06:54:43.840880Z"
    }
   },
   "outputs": [
    {
     "data": {
      "image/jpeg": "[encoded data removed]",
      "text/html": [
       "\n",
       "        <iframe\n",
       "            width=\"950\"\n",
       "            height=\"300\"\n",
       "            src=\"https://www.youtube.com/embed/wl0XLHy7kes\"\n",
       "            frameborder=\"0\"\n",
       "            allowfullscreen\n",
       "        ></iframe>\n",
       "        "
      ],
      "text/plain": [
       "<IPython.lib.display.YouTubeVideo at 0x7f27cae964c0>"
      ]
     },
     "execution_count": 28,
     "metadata": {},
     "output_type": "execute_result"
    }
   ],
   "source": [
    "YouTubeVideo('wl0XLHy7kes', width=950, height=300)    "
   ]
  },
  {
   "cell_type": "code",
   "execution_count": 29,
   "metadata": {
    "ExecuteTime": {
     "end_time": "2020-11-02T06:54:43.990543Z",
     "start_time": "2020-11-02T06:54:43.951679Z"
    }
   },
   "outputs": [
    {
     "data": {
      "text/plain": [
       "[('alternative', 2),\n",
       " ('seen live', 2),\n",
       " ('american artists', 1),\n",
       " ('dance-punk', 1),\n",
       " ('dj gold', 1),\n",
       " ('electro', 1),\n",
       " ('electronic', 1),\n",
       " ('indie', 1),\n",
       " ('indie rock', 1),\n",
       " ('neon space', 1),\n",
       " ('party', 1),\n",
       " ('post-punk', 1),\n",
       " ('potty mouth', 1),\n",
       " ('punk funk', 1),\n",
       " ('triple j', 1)]"
      ]
     },
     "execution_count": 29,
     "metadata": {},
     "output_type": "execute_result"
    }
   ],
   "source": [
    "tags_ = []\n",
    "for i in predictions:\n",
    "    try:\n",
    "        tags_.append(list(artist_tags.to_dict()[i]))\n",
    "    except:\n",
    "        tags_.append([])\n",
    "    \n",
    "res5 = sorted(Counter(list(itertools.chain(*tags_))).most_common(15),\n",
    "              key=lambda x:(-x[1], x[0]))\n",
    "res5"
   ]
  },
  {
   "cell_type": "markdown",
   "metadata": {},
   "source": [
    "Despite the combining of the 2 methods, the kind of music is similar but not yet quite that level. This may have not worked due to the neighborhood of closest neighbors not being that good predictors. Instead, this model may be augmented by setting this neighborhood to be the users friends.\n",
    "\n",
    "### 🎺 Friendly Neighborhood\n",
    "\n",
    "There are only 240 people with a decent number of friends to conduct this analysis on all users. The average number of friends per user is 13."
   ]
  },
  {
   "cell_type": "code",
   "execution_count": 30,
   "metadata": {
    "ExecuteTime": {
     "end_time": "2020-11-02T06:54:44.003913Z",
     "start_time": "2020-11-02T06:54:43.992780Z"
    }
   },
   "outputs": [
    {
     "data": {
      "text/plain": [
       "13.44291754756871"
      ]
     },
     "execution_count": 30,
     "metadata": {},
     "output_type": "execute_result"
    }
   ],
   "source": [
    "friends.nunique().sort_values(ascending=False).mean()"
   ]
  },
  {
   "cell_type": "code",
   "execution_count": 31,
   "metadata": {
    "ExecuteTime": {
     "end_time": "2020-11-02T06:54:44.022304Z",
     "start_time": "2020-11-02T06:54:44.005684Z"
    }
   },
   "outputs": [
    {
     "data": {
      "text/plain": [
       "userID\n",
       "1543    119\n",
       "1281    110\n",
       "831     106\n",
       "179      97\n",
       "1503     95\n",
       "       ... \n",
       "753      31\n",
       "1080     31\n",
       "1053     31\n",
       "1380     31\n",
       "1058     31\n",
       "Name: friendID, Length: 240, dtype: int64"
      ]
     },
     "execution_count": 31,
     "metadata": {},
     "output_type": "execute_result"
    }
   ],
   "source": [
    "friends.nunique().sort_values(ascending=False)[friends.nunique()>30]"
   ]
  },
  {
   "cell_type": "code",
   "execution_count": 32,
   "metadata": {
    "ExecuteTime": {
     "end_time": "2020-11-02T06:54:44.152136Z",
     "start_time": "2020-11-02T06:54:44.024070Z"
    }
   },
   "outputs": [
    {
     "data": {
      "text/html": [
       "<div>\n",
       "<style scoped>\n",
       "    .dataframe tbody tr th:only-of-type {\n",
       "        vertical-align: middle;\n",
       "    }\n",
       "\n",
       "    .dataframe tbody tr th {\n",
       "        vertical-align: top;\n",
       "    }\n",
       "\n",
       "    .dataframe thead th {\n",
       "        text-align: right;\n",
       "    }\n",
       "</style>\n",
       "<table border=\"1\" class=\"dataframe\">\n",
       "  <thead>\n",
       "    <tr style=\"text-align: right;\">\n",
       "      <th>artistID</th>\n",
       "      <th>(hed) Planet Earth</th>\n",
       "      <th>*NSYNC</th>\n",
       "      <th>12 Stones</th>\n",
       "      <th>2 Unlimited</th>\n",
       "      <th>2009 Names in Vain</th>\n",
       "      <th>2NE1</th>\n",
       "      <th>2Pac</th>\n",
       "      <th>30 Seconds to Mars</th>\n",
       "      <th>3OH!3</th>\n",
       "      <th>4minute</th>\n",
       "      <th>...</th>\n",
       "      <th>蔡依林</th>\n",
       "      <th>나르샤</th>\n",
       "      <th>남녀공학</th>\n",
       "      <th>동방신기</th>\n",
       "      <th>레인보우</th>\n",
       "      <th>소녀시대</th>\n",
       "      <th>시크릿</th>\n",
       "      <th>원더걸스</th>\n",
       "      <th>티아라</th>\n",
       "      <th>현아</th>\n",
       "    </tr>\n",
       "  </thead>\n",
       "  <tbody>\n",
       "    <tr>\n",
       "      <th>43</th>\n",
       "      <td>NaN</td>\n",
       "      <td>NaN</td>\n",
       "      <td>NaN</td>\n",
       "      <td>NaN</td>\n",
       "      <td>NaN</td>\n",
       "      <td>NaN</td>\n",
       "      <td>0.000159</td>\n",
       "      <td>0.017065</td>\n",
       "      <td>NaN</td>\n",
       "      <td>NaN</td>\n",
       "      <td>...</td>\n",
       "      <td>NaN</td>\n",
       "      <td>NaN</td>\n",
       "      <td>NaN</td>\n",
       "      <td>NaN</td>\n",
       "      <td>NaN</td>\n",
       "      <td>NaN</td>\n",
       "      <td>NaN</td>\n",
       "      <td>NaN</td>\n",
       "      <td>NaN</td>\n",
       "      <td>NaN</td>\n",
       "    </tr>\n",
       "    <tr>\n",
       "      <th>49</th>\n",
       "      <td>NaN</td>\n",
       "      <td>NaN</td>\n",
       "      <td>NaN</td>\n",
       "      <td>NaN</td>\n",
       "      <td>0.084507</td>\n",
       "      <td>NaN</td>\n",
       "      <td>NaN</td>\n",
       "      <td>NaN</td>\n",
       "      <td>NaN</td>\n",
       "      <td>NaN</td>\n",
       "      <td>...</td>\n",
       "      <td>NaN</td>\n",
       "      <td>NaN</td>\n",
       "      <td>NaN</td>\n",
       "      <td>NaN</td>\n",
       "      <td>NaN</td>\n",
       "      <td>NaN</td>\n",
       "      <td>NaN</td>\n",
       "      <td>NaN</td>\n",
       "      <td>NaN</td>\n",
       "      <td>NaN</td>\n",
       "    </tr>\n",
       "    <tr>\n",
       "      <th>58</th>\n",
       "      <td>NaN</td>\n",
       "      <td>NaN</td>\n",
       "      <td>NaN</td>\n",
       "      <td>NaN</td>\n",
       "      <td>NaN</td>\n",
       "      <td>NaN</td>\n",
       "      <td>NaN</td>\n",
       "      <td>NaN</td>\n",
       "      <td>NaN</td>\n",
       "      <td>NaN</td>\n",
       "      <td>...</td>\n",
       "      <td>NaN</td>\n",
       "      <td>NaN</td>\n",
       "      <td>NaN</td>\n",
       "      <td>NaN</td>\n",
       "      <td>NaN</td>\n",
       "      <td>NaN</td>\n",
       "      <td>NaN</td>\n",
       "      <td>NaN</td>\n",
       "      <td>NaN</td>\n",
       "      <td>NaN</td>\n",
       "    </tr>\n",
       "    <tr>\n",
       "      <th>129</th>\n",
       "      <td>NaN</td>\n",
       "      <td>NaN</td>\n",
       "      <td>NaN</td>\n",
       "      <td>NaN</td>\n",
       "      <td>NaN</td>\n",
       "      <td>NaN</td>\n",
       "      <td>NaN</td>\n",
       "      <td>NaN</td>\n",
       "      <td>NaN</td>\n",
       "      <td>NaN</td>\n",
       "      <td>...</td>\n",
       "      <td>NaN</td>\n",
       "      <td>NaN</td>\n",
       "      <td>NaN</td>\n",
       "      <td>NaN</td>\n",
       "      <td>NaN</td>\n",
       "      <td>NaN</td>\n",
       "      <td>NaN</td>\n",
       "      <td>NaN</td>\n",
       "      <td>NaN</td>\n",
       "      <td>NaN</td>\n",
       "    </tr>\n",
       "    <tr>\n",
       "      <th>146</th>\n",
       "      <td>NaN</td>\n",
       "      <td>NaN</td>\n",
       "      <td>NaN</td>\n",
       "      <td>NaN</td>\n",
       "      <td>NaN</td>\n",
       "      <td>NaN</td>\n",
       "      <td>NaN</td>\n",
       "      <td>NaN</td>\n",
       "      <td>NaN</td>\n",
       "      <td>0.035089</td>\n",
       "      <td>...</td>\n",
       "      <td>NaN</td>\n",
       "      <td>NaN</td>\n",
       "      <td>NaN</td>\n",
       "      <td>NaN</td>\n",
       "      <td>NaN</td>\n",
       "      <td>0.181957</td>\n",
       "      <td>NaN</td>\n",
       "      <td>NaN</td>\n",
       "      <td>NaN</td>\n",
       "      <td>NaN</td>\n",
       "    </tr>\n",
       "    <tr>\n",
       "      <th>...</th>\n",
       "      <td>...</td>\n",
       "      <td>...</td>\n",
       "      <td>...</td>\n",
       "      <td>...</td>\n",
       "      <td>...</td>\n",
       "      <td>...</td>\n",
       "      <td>...</td>\n",
       "      <td>...</td>\n",
       "      <td>...</td>\n",
       "      <td>...</td>\n",
       "      <td>...</td>\n",
       "      <td>...</td>\n",
       "      <td>...</td>\n",
       "      <td>...</td>\n",
       "      <td>...</td>\n",
       "      <td>...</td>\n",
       "      <td>...</td>\n",
       "      <td>...</td>\n",
       "      <td>...</td>\n",
       "      <td>...</td>\n",
       "      <td>...</td>\n",
       "    </tr>\n",
       "    <tr>\n",
       "      <th>2020</th>\n",
       "      <td>NaN</td>\n",
       "      <td>NaN</td>\n",
       "      <td>NaN</td>\n",
       "      <td>NaN</td>\n",
       "      <td>NaN</td>\n",
       "      <td>NaN</td>\n",
       "      <td>NaN</td>\n",
       "      <td>0.170330</td>\n",
       "      <td>NaN</td>\n",
       "      <td>NaN</td>\n",
       "      <td>...</td>\n",
       "      <td>NaN</td>\n",
       "      <td>NaN</td>\n",
       "      <td>NaN</td>\n",
       "      <td>NaN</td>\n",
       "      <td>NaN</td>\n",
       "      <td>NaN</td>\n",
       "      <td>NaN</td>\n",
       "      <td>NaN</td>\n",
       "      <td>NaN</td>\n",
       "      <td>NaN</td>\n",
       "    </tr>\n",
       "    <tr>\n",
       "      <th>2037</th>\n",
       "      <td>NaN</td>\n",
       "      <td>NaN</td>\n",
       "      <td>NaN</td>\n",
       "      <td>NaN</td>\n",
       "      <td>NaN</td>\n",
       "      <td>NaN</td>\n",
       "      <td>NaN</td>\n",
       "      <td>NaN</td>\n",
       "      <td>NaN</td>\n",
       "      <td>NaN</td>\n",
       "      <td>...</td>\n",
       "      <td>NaN</td>\n",
       "      <td>NaN</td>\n",
       "      <td>NaN</td>\n",
       "      <td>NaN</td>\n",
       "      <td>NaN</td>\n",
       "      <td>NaN</td>\n",
       "      <td>NaN</td>\n",
       "      <td>NaN</td>\n",
       "      <td>NaN</td>\n",
       "      <td>NaN</td>\n",
       "    </tr>\n",
       "    <tr>\n",
       "      <th>2054</th>\n",
       "      <td>NaN</td>\n",
       "      <td>NaN</td>\n",
       "      <td>NaN</td>\n",
       "      <td>NaN</td>\n",
       "      <td>NaN</td>\n",
       "      <td>0.001491</td>\n",
       "      <td>NaN</td>\n",
       "      <td>NaN</td>\n",
       "      <td>NaN</td>\n",
       "      <td>0.029009</td>\n",
       "      <td>...</td>\n",
       "      <td>NaN</td>\n",
       "      <td>NaN</td>\n",
       "      <td>NaN</td>\n",
       "      <td>NaN</td>\n",
       "      <td>NaN</td>\n",
       "      <td>0.009267</td>\n",
       "      <td>NaN</td>\n",
       "      <td>NaN</td>\n",
       "      <td>NaN</td>\n",
       "      <td>0.003267</td>\n",
       "    </tr>\n",
       "    <tr>\n",
       "      <th>2059</th>\n",
       "      <td>NaN</td>\n",
       "      <td>0.003497</td>\n",
       "      <td>NaN</td>\n",
       "      <td>NaN</td>\n",
       "      <td>NaN</td>\n",
       "      <td>NaN</td>\n",
       "      <td>NaN</td>\n",
       "      <td>NaN</td>\n",
       "      <td>0.004804</td>\n",
       "      <td>NaN</td>\n",
       "      <td>...</td>\n",
       "      <td>NaN</td>\n",
       "      <td>NaN</td>\n",
       "      <td>NaN</td>\n",
       "      <td>NaN</td>\n",
       "      <td>NaN</td>\n",
       "      <td>NaN</td>\n",
       "      <td>NaN</td>\n",
       "      <td>NaN</td>\n",
       "      <td>NaN</td>\n",
       "      <td>NaN</td>\n",
       "    </tr>\n",
       "    <tr>\n",
       "      <th>179</th>\n",
       "      <td>NaN</td>\n",
       "      <td>NaN</td>\n",
       "      <td>NaN</td>\n",
       "      <td>NaN</td>\n",
       "      <td>NaN</td>\n",
       "      <td>NaN</td>\n",
       "      <td>NaN</td>\n",
       "      <td>0.000000</td>\n",
       "      <td>0.012128</td>\n",
       "      <td>NaN</td>\n",
       "      <td>...</td>\n",
       "      <td>NaN</td>\n",
       "      <td>NaN</td>\n",
       "      <td>NaN</td>\n",
       "      <td>NaN</td>\n",
       "      <td>NaN</td>\n",
       "      <td>NaN</td>\n",
       "      <td>NaN</td>\n",
       "      <td>NaN</td>\n",
       "      <td>NaN</td>\n",
       "      <td>NaN</td>\n",
       "    </tr>\n",
       "  </tbody>\n",
       "</table>\n",
       "<p>98 rows × 1383 columns</p>\n",
       "</div>"
      ],
      "text/plain": [
       "artistID  (hed) Planet Earth    *NSYNC  12 Stones  2 Unlimited  \\\n",
       "43                       NaN       NaN        NaN          NaN   \n",
       "49                       NaN       NaN        NaN          NaN   \n",
       "58                       NaN       NaN        NaN          NaN   \n",
       "129                      NaN       NaN        NaN          NaN   \n",
       "146                      NaN       NaN        NaN          NaN   \n",
       "...                      ...       ...        ...          ...   \n",
       "2020                     NaN       NaN        NaN          NaN   \n",
       "2037                     NaN       NaN        NaN          NaN   \n",
       "2054                     NaN       NaN        NaN          NaN   \n",
       "2059                     NaN  0.003497        NaN          NaN   \n",
       "179                      NaN       NaN        NaN          NaN   \n",
       "\n",
       "artistID  2009 Names in Vain      2NE1      2Pac  30 Seconds to Mars  \\\n",
       "43                       NaN       NaN  0.000159            0.017065   \n",
       "49                  0.084507       NaN       NaN                 NaN   \n",
       "58                       NaN       NaN       NaN                 NaN   \n",
       "129                      NaN       NaN       NaN                 NaN   \n",
       "146                      NaN       NaN       NaN                 NaN   \n",
       "...                      ...       ...       ...                 ...   \n",
       "2020                     NaN       NaN       NaN            0.170330   \n",
       "2037                     NaN       NaN       NaN                 NaN   \n",
       "2054                     NaN  0.001491       NaN                 NaN   \n",
       "2059                     NaN       NaN       NaN                 NaN   \n",
       "179                      NaN       NaN       NaN            0.000000   \n",
       "\n",
       "artistID     3OH!3   4minute  ...  蔡依林  나르샤  남녀공학  동방신기  레인보우      소녀시대  시크릿  \\\n",
       "43             NaN       NaN  ...  NaN  NaN   NaN   NaN   NaN       NaN  NaN   \n",
       "49             NaN       NaN  ...  NaN  NaN   NaN   NaN   NaN       NaN  NaN   \n",
       "58             NaN       NaN  ...  NaN  NaN   NaN   NaN   NaN       NaN  NaN   \n",
       "129            NaN       NaN  ...  NaN  NaN   NaN   NaN   NaN       NaN  NaN   \n",
       "146            NaN  0.035089  ...  NaN  NaN   NaN   NaN   NaN  0.181957  NaN   \n",
       "...            ...       ...  ...  ...  ...   ...   ...   ...       ...  ...   \n",
       "2020           NaN       NaN  ...  NaN  NaN   NaN   NaN   NaN       NaN  NaN   \n",
       "2037           NaN       NaN  ...  NaN  NaN   NaN   NaN   NaN       NaN  NaN   \n",
       "2054           NaN  0.029009  ...  NaN  NaN   NaN   NaN   NaN  0.009267  NaN   \n",
       "2059      0.004804       NaN  ...  NaN  NaN   NaN   NaN   NaN       NaN  NaN   \n",
       "179       0.012128       NaN  ...  NaN  NaN   NaN   NaN   NaN       NaN  NaN   \n",
       "\n",
       "artistID  원더걸스  티아라        현아  \n",
       "43         NaN  NaN       NaN  \n",
       "49         NaN  NaN       NaN  \n",
       "58         NaN  NaN       NaN  \n",
       "129        NaN  NaN       NaN  \n",
       "146        NaN  NaN       NaN  \n",
       "...        ...  ...       ...  \n",
       "2020       NaN  NaN       NaN  \n",
       "2037       NaN  NaN       NaN  \n",
       "2054       NaN  NaN  0.003267  \n",
       "2059       NaN  NaN       NaN  \n",
       "179        NaN  NaN       NaN  \n",
       "\n",
       "[98 rows x 1383 columns]"
      ]
     },
     "execution_count": 32,
     "metadata": {},
     "output_type": "execute_result"
    }
   ],
   "source": [
    "user_friends = friends.apply(list)\n",
    "user_friends.loc[user].append(user)\n",
    "user_friends = df_minmax.loc[user_friends.loc[user]].dropna(how='all', axis=1)\n",
    "user_friends"
   ]
  },
  {
   "cell_type": "code",
   "execution_count": 33,
   "metadata": {
    "ExecuteTime": {
     "end_time": "2020-11-02T06:54:44.198470Z",
     "start_time": "2020-11-02T06:54:44.153867Z"
    }
   },
   "outputs": [
    {
     "name": "stdout",
     "output_type": "stream",
     "text": [
      "Computing the pearson similarity matrix...\n",
      "Done computing similarity matrix.\n"
     ]
    },
    {
     "data": {
      "text/plain": [
       "<surprise.prediction_algorithms.knns.KNNWithMeans at 0x7f278c298d30>"
      ]
     },
     "execution_count": 33,
     "metadata": {},
     "output_type": "execute_result"
    }
   ],
   "source": [
    "df_melt = (user_friends.reset_index()\n",
    "                .melt('index', var_name='artistID', value_name='weight')\n",
    "                .dropna())\n",
    "\n",
    "knn = KNNWithMeans(k=30, sim_options={'name': 'pearson', 'item_based': True})\n",
    "reader = Reader(rating_scale=(0, 1))\n",
    "dataset = Dataset.load_from_df(df_melt, reader)\n",
    "knn.fit(dataset.build_full_trainset())"
   ]
  },
  {
   "cell_type": "code",
   "execution_count": 34,
   "metadata": {
    "ExecuteTime": {
     "end_time": "2020-11-02T06:54:44.322921Z",
     "start_time": "2020-11-02T06:54:44.200235Z"
    }
   },
   "outputs": [
    {
     "data": {
      "text/plain": [
       "['Röyksopp',\n",
       " 'The Fall',\n",
       " 'Matt & Kim',\n",
       " 'Jeanette',\n",
       " 'Pataclaun',\n",
       " 'Duran Duran',\n",
       " 'Slayer',\n",
       " 'Riko',\n",
       " 'Johnny Cash',\n",
       " 'Nine Inch Nails']"
      ]
     },
     "execution_count": 34,
     "metadata": {},
     "output_type": "execute_result"
    }
   ],
   "source": [
    "predictions = []\n",
    "for col in user_artists_2.loc[user][user_artists_2.loc[user].isna()].index:\n",
    "    predictions.append(knn.predict(user, col))\n",
    "predictions = [i[1] for i in sorted(predictions, key=lambda x:-x[3])[:10]]\n",
    "predictions"
   ]
  },
  {
   "cell_type": "code",
   "execution_count": 35,
   "metadata": {
    "ExecuteTime": {
     "end_time": "2020-11-02T06:54:44.444395Z",
     "start_time": "2020-11-02T06:54:44.324699Z"
    }
   },
   "outputs": [
    {
     "data": {
      "image/jpeg": "[encoded data removed]",
      "text/html": [
       "\n",
       "        <iframe\n",
       "            width=\"950\"\n",
       "            height=\"300\"\n",
       "            src=\"https://www.youtube.com/embed/FqIACCH20JU\"\n",
       "            frameborder=\"0\"\n",
       "            allowfullscreen\n",
       "        ></iframe>\n",
       "        "
      ],
      "text/plain": [
       "<IPython.lib.display.YouTubeVideo at 0x7f278c298a60>"
      ]
     },
     "execution_count": 35,
     "metadata": {},
     "output_type": "execute_result"
    }
   ],
   "source": [
    "YouTubeVideo('FqIACCH20JU', width=950, height=300) # WgBeu3FVi60, "
   ]
  },
  {
   "cell_type": "code",
   "execution_count": 36,
   "metadata": {
    "ExecuteTime": {
     "end_time": "2020-11-02T06:54:44.489052Z",
     "start_time": "2020-11-02T06:54:44.446672Z"
    }
   },
   "outputs": [
    {
     "data": {
      "text/plain": [
       "[('indie', 5),\n",
       " ('80s', 4),\n",
       " ('indie rock', 4),\n",
       " ('love at first listen', 4),\n",
       " ('new wave', 4),\n",
       " ('rock', 4),\n",
       " ('seen live', 4),\n",
       " ('00s', 3),\n",
       " ('ambient', 3),\n",
       " ('electronic', 3),\n",
       " ('epic', 3),\n",
       " ('experimental', 3),\n",
       " ('favorite songs', 3),\n",
       " ('mellow', 3),\n",
       " ('sexy', 3)]"
      ]
     },
     "execution_count": 36,
     "metadata": {},
     "output_type": "execute_result"
    }
   ],
   "source": [
    "tags_ = []\n",
    "for i in predictions:\n",
    "    try:\n",
    "        tags_.append(list(artist_tags.to_dict()[i]))\n",
    "    except:\n",
    "        tags_.append([])\n",
    "    \n",
    "res6 = sorted(Counter(list(itertools.chain(*tags_))).most_common(15),\n",
    "              key=lambda x:(-x[1], x[0]))\n",
    "res6"
   ]
  },
  {
   "cell_type": "markdown",
   "metadata": {},
   "source": [
    "The algorithm gives the most common number of tags and the song is of a similar type as well.\n",
    "\n",
    "# 🎤 Results\n",
    "\n",
    "The summary of results below shows that the Hybrid w/ friends-only neighborhood algorithm gave the highest number of common tags (6) followed by Item-Based (5) and NMF (3). Furthermore, the songs of the artists from these algorithm outputs were judged subjectively and a similar rank was achieved.\n",
    "\n",
    "It is important to note, however, that these algorithms are trying to recommend artists that have not been heard by the user at all. This means that an artist heard by the user just a few times will be disqualified as a candidate in the recommender system. This methodology may be useful in suggesting artists but not music.\n",
    "\n",
    "Furthermore, despite the artist tags being similar, artists of different languages were also suggested. This would be troublesome for users not understanding those languages."
   ]
  },
  {
   "cell_type": "code",
   "execution_count": 37,
   "metadata": {
    "ExecuteTime": {
     "end_time": "2020-11-02T06:54:44.721512Z",
     "start_time": "2020-11-02T06:54:44.490794Z"
    }
   },
   "outputs": [
    {
     "data": {
      "text/html": [
       "<style  type=\"text/css\" >\n",
       "#T_4a1fc594_1cd8_11eb_9bd0_f2415b27aa47row0_col0,#T_4a1fc594_1cd8_11eb_9bd0_f2415b27aa47row0_col4,#T_4a1fc594_1cd8_11eb_9bd0_f2415b27aa47row0_col5,#T_4a1fc594_1cd8_11eb_9bd0_f2415b27aa47row1_col0,#T_4a1fc594_1cd8_11eb_9bd0_f2415b27aa47row1_col3,#T_4a1fc594_1cd8_11eb_9bd0_f2415b27aa47row2_col0,#T_4a1fc594_1cd8_11eb_9bd0_f2415b27aa47row2_col1,#T_4a1fc594_1cd8_11eb_9bd0_f2415b27aa47row3_col0,#T_4a1fc594_1cd8_11eb_9bd0_f2415b27aa47row3_col2,#T_4a1fc594_1cd8_11eb_9bd0_f2415b27aa47row3_col5,#T_4a1fc594_1cd8_11eb_9bd0_f2415b27aa47row4_col0,#T_4a1fc594_1cd8_11eb_9bd0_f2415b27aa47row4_col5,#T_4a1fc594_1cd8_11eb_9bd0_f2415b27aa47row5_col0,#T_4a1fc594_1cd8_11eb_9bd0_f2415b27aa47row5_col4,#T_4a1fc594_1cd8_11eb_9bd0_f2415b27aa47row6_col0,#T_4a1fc594_1cd8_11eb_9bd0_f2415b27aa47row7_col0,#T_4a1fc594_1cd8_11eb_9bd0_f2415b27aa47row8_col0,#T_4a1fc594_1cd8_11eb_9bd0_f2415b27aa47row8_col2,#T_4a1fc594_1cd8_11eb_9bd0_f2415b27aa47row9_col0,#T_4a1fc594_1cd8_11eb_9bd0_f2415b27aa47row9_col5,#T_4a1fc594_1cd8_11eb_9bd0_f2415b27aa47row10_col0,#T_4a1fc594_1cd8_11eb_9bd0_f2415b27aa47row10_col2,#T_4a1fc594_1cd8_11eb_9bd0_f2415b27aa47row11_col0,#T_4a1fc594_1cd8_11eb_9bd0_f2415b27aa47row12_col0,#T_4a1fc594_1cd8_11eb_9bd0_f2415b27aa47row12_col2,#T_4a1fc594_1cd8_11eb_9bd0_f2415b27aa47row12_col3,#T_4a1fc594_1cd8_11eb_9bd0_f2415b27aa47row12_col5,#T_4a1fc594_1cd8_11eb_9bd0_f2415b27aa47row13_col0,#T_4a1fc594_1cd8_11eb_9bd0_f2415b27aa47row13_col3,#T_4a1fc594_1cd8_11eb_9bd0_f2415b27aa47row14_col0,#T_4a1fc594_1cd8_11eb_9bd0_f2415b27aa47row14_col5{\n",
       "            background-color:  pink;\n",
       "        }#T_4a1fc594_1cd8_11eb_9bd0_f2415b27aa47row0_col1,#T_4a1fc594_1cd8_11eb_9bd0_f2415b27aa47row0_col2,#T_4a1fc594_1cd8_11eb_9bd0_f2415b27aa47row0_col3,#T_4a1fc594_1cd8_11eb_9bd0_f2415b27aa47row1_col1,#T_4a1fc594_1cd8_11eb_9bd0_f2415b27aa47row1_col2,#T_4a1fc594_1cd8_11eb_9bd0_f2415b27aa47row1_col4,#T_4a1fc594_1cd8_11eb_9bd0_f2415b27aa47row1_col5,#T_4a1fc594_1cd8_11eb_9bd0_f2415b27aa47row2_col2,#T_4a1fc594_1cd8_11eb_9bd0_f2415b27aa47row2_col3,#T_4a1fc594_1cd8_11eb_9bd0_f2415b27aa47row2_col4,#T_4a1fc594_1cd8_11eb_9bd0_f2415b27aa47row2_col5,#T_4a1fc594_1cd8_11eb_9bd0_f2415b27aa47row3_col1,#T_4a1fc594_1cd8_11eb_9bd0_f2415b27aa47row3_col3,#T_4a1fc594_1cd8_11eb_9bd0_f2415b27aa47row3_col4,#T_4a1fc594_1cd8_11eb_9bd0_f2415b27aa47row4_col1,#T_4a1fc594_1cd8_11eb_9bd0_f2415b27aa47row4_col2,#T_4a1fc594_1cd8_11eb_9bd0_f2415b27aa47row4_col3,#T_4a1fc594_1cd8_11eb_9bd0_f2415b27aa47row4_col4,#T_4a1fc594_1cd8_11eb_9bd0_f2415b27aa47row5_col1,#T_4a1fc594_1cd8_11eb_9bd0_f2415b27aa47row5_col2,#T_4a1fc594_1cd8_11eb_9bd0_f2415b27aa47row5_col3,#T_4a1fc594_1cd8_11eb_9bd0_f2415b27aa47row5_col5,#T_4a1fc594_1cd8_11eb_9bd0_f2415b27aa47row6_col1,#T_4a1fc594_1cd8_11eb_9bd0_f2415b27aa47row6_col2,#T_4a1fc594_1cd8_11eb_9bd0_f2415b27aa47row6_col3,#T_4a1fc594_1cd8_11eb_9bd0_f2415b27aa47row6_col4,#T_4a1fc594_1cd8_11eb_9bd0_f2415b27aa47row6_col5,#T_4a1fc594_1cd8_11eb_9bd0_f2415b27aa47row7_col1,#T_4a1fc594_1cd8_11eb_9bd0_f2415b27aa47row7_col2,#T_4a1fc594_1cd8_11eb_9bd0_f2415b27aa47row7_col3,#T_4a1fc594_1cd8_11eb_9bd0_f2415b27aa47row7_col4,#T_4a1fc594_1cd8_11eb_9bd0_f2415b27aa47row7_col5,#T_4a1fc594_1cd8_11eb_9bd0_f2415b27aa47row8_col1,#T_4a1fc594_1cd8_11eb_9bd0_f2415b27aa47row8_col3,#T_4a1fc594_1cd8_11eb_9bd0_f2415b27aa47row8_col4,#T_4a1fc594_1cd8_11eb_9bd0_f2415b27aa47row8_col5,#T_4a1fc594_1cd8_11eb_9bd0_f2415b27aa47row9_col1,#T_4a1fc594_1cd8_11eb_9bd0_f2415b27aa47row9_col2,#T_4a1fc594_1cd8_11eb_9bd0_f2415b27aa47row9_col3,#T_4a1fc594_1cd8_11eb_9bd0_f2415b27aa47row9_col4,#T_4a1fc594_1cd8_11eb_9bd0_f2415b27aa47row10_col1,#T_4a1fc594_1cd8_11eb_9bd0_f2415b27aa47row10_col3,#T_4a1fc594_1cd8_11eb_9bd0_f2415b27aa47row10_col4,#T_4a1fc594_1cd8_11eb_9bd0_f2415b27aa47row10_col5,#T_4a1fc594_1cd8_11eb_9bd0_f2415b27aa47row11_col1,#T_4a1fc594_1cd8_11eb_9bd0_f2415b27aa47row11_col2,#T_4a1fc594_1cd8_11eb_9bd0_f2415b27aa47row11_col3,#T_4a1fc594_1cd8_11eb_9bd0_f2415b27aa47row11_col4,#T_4a1fc594_1cd8_11eb_9bd0_f2415b27aa47row11_col5,#T_4a1fc594_1cd8_11eb_9bd0_f2415b27aa47row12_col1,#T_4a1fc594_1cd8_11eb_9bd0_f2415b27aa47row12_col4,#T_4a1fc594_1cd8_11eb_9bd0_f2415b27aa47row13_col1,#T_4a1fc594_1cd8_11eb_9bd0_f2415b27aa47row13_col2,#T_4a1fc594_1cd8_11eb_9bd0_f2415b27aa47row13_col4,#T_4a1fc594_1cd8_11eb_9bd0_f2415b27aa47row13_col5,#T_4a1fc594_1cd8_11eb_9bd0_f2415b27aa47row14_col1,#T_4a1fc594_1cd8_11eb_9bd0_f2415b27aa47row14_col2,#T_4a1fc594_1cd8_11eb_9bd0_f2415b27aa47row14_col3,#T_4a1fc594_1cd8_11eb_9bd0_f2415b27aa47row14_col4{\n",
       "            background-color:  white;\n",
       "        }</style><table id=\"T_4a1fc594_1cd8_11eb_9bd0_f2415b27aa47\" ><thead>    <tr>        <th class=\"blank level0\" ></th>        <th class=\"col_heading level0 col0\" >Original</th>        <th class=\"col_heading level0 col1\" >User Based</th>        <th class=\"col_heading level0 col2\" >Item Based</th>        <th class=\"col_heading level0 col3\" >NMF</th>        <th class=\"col_heading level0 col4\" >Hybrid</th>        <th class=\"col_heading level0 col5\" >Hybrid++</th>    </tr></thead><tbody>\n",
       "                <tr>\n",
       "                        <th id=\"T_4a1fc594_1cd8_11eb_9bd0_f2415b27aa47level0_row0\" class=\"row_heading level0 row0\" >0</th>\n",
       "                        <td id=\"T_4a1fc594_1cd8_11eb_9bd0_f2415b27aa47row0_col0\" class=\"data row0 col0\" >00s</td>\n",
       "                        <td id=\"T_4a1fc594_1cd8_11eb_9bd0_f2415b27aa47row0_col1\" class=\"data row0 col1\" >90s</td>\n",
       "                        <td id=\"T_4a1fc594_1cd8_11eb_9bd0_f2415b27aa47row0_col2\" class=\"data row0 col2\" >1993</td>\n",
       "                        <td id=\"T_4a1fc594_1cd8_11eb_9bd0_f2415b27aa47row0_col3\" class=\"data row0 col3\" >90s</td>\n",
       "                        <td id=\"T_4a1fc594_1cd8_11eb_9bd0_f2415b27aa47row0_col4\" class=\"data row0 col4\" >alternative</td>\n",
       "                        <td id=\"T_4a1fc594_1cd8_11eb_9bd0_f2415b27aa47row0_col5\" class=\"data row0 col5\" >00s</td>\n",
       "            </tr>\n",
       "            <tr>\n",
       "                        <th id=\"T_4a1fc594_1cd8_11eb_9bd0_f2415b27aa47level0_row1\" class=\"row_heading level0 row1\" >1</th>\n",
       "                        <td id=\"T_4a1fc594_1cd8_11eb_9bd0_f2415b27aa47row1_col0\" class=\"data row1 col0\" >alternative</td>\n",
       "                        <td id=\"T_4a1fc594_1cd8_11eb_9bd0_f2415b27aa47row1_col1\" class=\"data row1 col1\" >acoustic</td>\n",
       "                        <td id=\"T_4a1fc594_1cd8_11eb_9bd0_f2415b27aa47row1_col2\" class=\"data row1 col2\" >acoustic</td>\n",
       "                        <td id=\"T_4a1fc594_1cd8_11eb_9bd0_f2415b27aa47row1_col3\" class=\"data row1 col3\" >alternative</td>\n",
       "                        <td id=\"T_4a1fc594_1cd8_11eb_9bd0_f2415b27aa47row1_col4\" class=\"data row1 col4\" >american artists</td>\n",
       "                        <td id=\"T_4a1fc594_1cd8_11eb_9bd0_f2415b27aa47row1_col5\" class=\"data row1 col5\" >80s</td>\n",
       "            </tr>\n",
       "            <tr>\n",
       "                        <th id=\"T_4a1fc594_1cd8_11eb_9bd0_f2415b27aa47level0_row2\" class=\"row_heading level0 row2\" >2</th>\n",
       "                        <td id=\"T_4a1fc594_1cd8_11eb_9bd0_f2415b27aa47row2_col0\" class=\"data row2 col0\" >amazing</td>\n",
       "                        <td id=\"T_4a1fc594_1cd8_11eb_9bd0_f2415b27aa47row2_col1\" class=\"data row2 col1\" >alternative</td>\n",
       "                        <td id=\"T_4a1fc594_1cd8_11eb_9bd0_f2415b27aa47row2_col2\" class=\"data row2 col2\" >ajda forever</td>\n",
       "                        <td id=\"T_4a1fc594_1cd8_11eb_9bd0_f2415b27aa47row2_col3\" class=\"data row2 col3\" >alternative rock</td>\n",
       "                        <td id=\"T_4a1fc594_1cd8_11eb_9bd0_f2415b27aa47row2_col4\" class=\"data row2 col4\" >dance-punk</td>\n",
       "                        <td id=\"T_4a1fc594_1cd8_11eb_9bd0_f2415b27aa47row2_col5\" class=\"data row2 col5\" >ambient</td>\n",
       "            </tr>\n",
       "            <tr>\n",
       "                        <th id=\"T_4a1fc594_1cd8_11eb_9bd0_f2415b27aa47level0_row3\" class=\"row_heading level0 row3\" >3</th>\n",
       "                        <td id=\"T_4a1fc594_1cd8_11eb_9bd0_f2415b27aa47row3_col0\" class=\"data row3 col0\" >awesome</td>\n",
       "                        <td id=\"T_4a1fc594_1cd8_11eb_9bd0_f2415b27aa47row3_col1\" class=\"data row3 col1\" >ambient</td>\n",
       "                        <td id=\"T_4a1fc594_1cd8_11eb_9bd0_f2415b27aa47row3_col2\" class=\"data row3 col2\" >alternative</td>\n",
       "                        <td id=\"T_4a1fc594_1cd8_11eb_9bd0_f2415b27aa47row3_col3\" class=\"data row3 col3\" >britpop</td>\n",
       "                        <td id=\"T_4a1fc594_1cd8_11eb_9bd0_f2415b27aa47row3_col4\" class=\"data row3 col4\" >dj gold</td>\n",
       "                        <td id=\"T_4a1fc594_1cd8_11eb_9bd0_f2415b27aa47row3_col5\" class=\"data row3 col5\" >electronic</td>\n",
       "            </tr>\n",
       "            <tr>\n",
       "                        <th id=\"T_4a1fc594_1cd8_11eb_9bd0_f2415b27aa47level0_row4\" class=\"row_heading level0 row4\" >4</th>\n",
       "                        <td id=\"T_4a1fc594_1cd8_11eb_9bd0_f2415b27aa47row4_col0\" class=\"data row4 col0\" >electronic</td>\n",
       "                        <td id=\"T_4a1fc594_1cd8_11eb_9bd0_f2415b27aa47row4_col1\" class=\"data row4 col1\" >chillout</td>\n",
       "                        <td id=\"T_4a1fc594_1cd8_11eb_9bd0_f2415b27aa47row4_col2\" class=\"data row4 col2\" >alternative rock</td>\n",
       "                        <td id=\"T_4a1fc594_1cd8_11eb_9bd0_f2415b27aa47row4_col3\" class=\"data row4 col3\" >chillout</td>\n",
       "                        <td id=\"T_4a1fc594_1cd8_11eb_9bd0_f2415b27aa47row4_col4\" class=\"data row4 col4\" >electro</td>\n",
       "                        <td id=\"T_4a1fc594_1cd8_11eb_9bd0_f2415b27aa47row4_col5\" class=\"data row4 col5\" >epic</td>\n",
       "            </tr>\n",
       "            <tr>\n",
       "                        <th id=\"T_4a1fc594_1cd8_11eb_9bd0_f2415b27aa47level0_row5\" class=\"row_heading level0 row5\" >5</th>\n",
       "                        <td id=\"T_4a1fc594_1cd8_11eb_9bd0_f2415b27aa47row5_col0\" class=\"data row5 col0\" >epic</td>\n",
       "                        <td id=\"T_4a1fc594_1cd8_11eb_9bd0_f2415b27aa47row5_col1\" class=\"data row5 col1\" >folk</td>\n",
       "                        <td id=\"T_4a1fc594_1cd8_11eb_9bd0_f2415b27aa47row5_col2\" class=\"data row5 col2\" >brazilian</td>\n",
       "                        <td id=\"T_4a1fc594_1cd8_11eb_9bd0_f2415b27aa47row5_col3\" class=\"data row5 col3\" >covers</td>\n",
       "                        <td id=\"T_4a1fc594_1cd8_11eb_9bd0_f2415b27aa47row5_col4\" class=\"data row5 col4\" >electronic</td>\n",
       "                        <td id=\"T_4a1fc594_1cd8_11eb_9bd0_f2415b27aa47row5_col5\" class=\"data row5 col5\" >experimental</td>\n",
       "            </tr>\n",
       "            <tr>\n",
       "                        <th id=\"T_4a1fc594_1cd8_11eb_9bd0_f2415b27aa47level0_row6\" class=\"row_heading level0 row6\" >6</th>\n",
       "                        <td id=\"T_4a1fc594_1cd8_11eb_9bd0_f2415b27aa47row6_col0\" class=\"data row6 col0\" >favorites</td>\n",
       "                        <td id=\"T_4a1fc594_1cd8_11eb_9bd0_f2415b27aa47row6_col1\" class=\"data row6 col1\" >indie</td>\n",
       "                        <td id=\"T_4a1fc594_1cd8_11eb_9bd0_f2415b27aa47row6_col2\" class=\"data row6 col2\" >catholic</td>\n",
       "                        <td id=\"T_4a1fc594_1cd8_11eb_9bd0_f2415b27aa47row6_col3\" class=\"data row6 col3\" >darkwave</td>\n",
       "                        <td id=\"T_4a1fc594_1cd8_11eb_9bd0_f2415b27aa47row6_col4\" class=\"data row6 col4\" >indie</td>\n",
       "                        <td id=\"T_4a1fc594_1cd8_11eb_9bd0_f2415b27aa47row6_col5\" class=\"data row6 col5\" >favorite songs</td>\n",
       "            </tr>\n",
       "            <tr>\n",
       "                        <th id=\"T_4a1fc594_1cd8_11eb_9bd0_f2415b27aa47level0_row7\" class=\"row_heading level0 row7\" >7</th>\n",
       "                        <td id=\"T_4a1fc594_1cd8_11eb_9bd0_f2415b27aa47row7_col0\" class=\"data row7 col0\" >love</td>\n",
       "                        <td id=\"T_4a1fc594_1cd8_11eb_9bd0_f2415b27aa47row7_col1\" class=\"data row7 col1\" >indie folk</td>\n",
       "                        <td id=\"T_4a1fc594_1cd8_11eb_9bd0_f2415b27aa47row7_col2\" class=\"data row7 col2\" >diva</td>\n",
       "                        <td id=\"T_4a1fc594_1cd8_11eb_9bd0_f2415b27aa47row7_col3\" class=\"data row7 col3\" >gothic</td>\n",
       "                        <td id=\"T_4a1fc594_1cd8_11eb_9bd0_f2415b27aa47row7_col4\" class=\"data row7 col4\" >indie rock</td>\n",
       "                        <td id=\"T_4a1fc594_1cd8_11eb_9bd0_f2415b27aa47row7_col5\" class=\"data row7 col5\" >indie</td>\n",
       "            </tr>\n",
       "            <tr>\n",
       "                        <th id=\"T_4a1fc594_1cd8_11eb_9bd0_f2415b27aa47level0_row8\" class=\"row_heading level0 row8\" >8</th>\n",
       "                        <td id=\"T_4a1fc594_1cd8_11eb_9bd0_f2415b27aa47row8_col0\" class=\"data row8 col0\" >love at first listen</td>\n",
       "                        <td id=\"T_4a1fc594_1cd8_11eb_9bd0_f2415b27aa47row8_col1\" class=\"data row8 col1\" >indie pop</td>\n",
       "                        <td id=\"T_4a1fc594_1cd8_11eb_9bd0_f2415b27aa47row8_col2\" class=\"data row8 col2\" >electronic</td>\n",
       "                        <td id=\"T_4a1fc594_1cd8_11eb_9bd0_f2415b27aa47row8_col3\" class=\"data row8 col3\" >gothic rock</td>\n",
       "                        <td id=\"T_4a1fc594_1cd8_11eb_9bd0_f2415b27aa47row8_col4\" class=\"data row8 col4\" >neon space</td>\n",
       "                        <td id=\"T_4a1fc594_1cd8_11eb_9bd0_f2415b27aa47row8_col5\" class=\"data row8 col5\" >indie rock</td>\n",
       "            </tr>\n",
       "            <tr>\n",
       "                        <th id=\"T_4a1fc594_1cd8_11eb_9bd0_f2415b27aa47level0_row9\" class=\"row_heading level0 row9\" >9</th>\n",
       "                        <td id=\"T_4a1fc594_1cd8_11eb_9bd0_f2415b27aa47row9_col0\" class=\"data row9 col0\" >piano</td>\n",
       "                        <td id=\"T_4a1fc594_1cd8_11eb_9bd0_f2415b27aa47row9_col1\" class=\"data row9 col1\" >instrumental</td>\n",
       "                        <td id=\"T_4a1fc594_1cd8_11eb_9bd0_f2415b27aa47row9_col2\" class=\"data row9 col2\" >female vocalists</td>\n",
       "                        <td id=\"T_4a1fc594_1cd8_11eb_9bd0_f2415b27aa47row9_col3\" class=\"data row9 col3\" >indie</td>\n",
       "                        <td id=\"T_4a1fc594_1cd8_11eb_9bd0_f2415b27aa47row9_col4\" class=\"data row9 col4\" >party</td>\n",
       "                        <td id=\"T_4a1fc594_1cd8_11eb_9bd0_f2415b27aa47row9_col5\" class=\"data row9 col5\" >love at first listen</td>\n",
       "            </tr>\n",
       "            <tr>\n",
       "                        <th id=\"T_4a1fc594_1cd8_11eb_9bd0_f2415b27aa47level0_row10\" class=\"row_heading level0 row10\" >10</th>\n",
       "                        <td id=\"T_4a1fc594_1cd8_11eb_9bd0_f2415b27aa47row10_col0\" class=\"data row10 col0\" >pop</td>\n",
       "                        <td id=\"T_4a1fc594_1cd8_11eb_9bd0_f2415b27aa47row10_col1\" class=\"data row10 col1\" >lo-fi</td>\n",
       "                        <td id=\"T_4a1fc594_1cd8_11eb_9bd0_f2415b27aa47row10_col2\" class=\"data row10 col2\" >pop</td>\n",
       "                        <td id=\"T_4a1fc594_1cd8_11eb_9bd0_f2415b27aa47row10_col3\" class=\"data row10 col3\" >indie rock</td>\n",
       "                        <td id=\"T_4a1fc594_1cd8_11eb_9bd0_f2415b27aa47row10_col4\" class=\"data row10 col4\" >post-punk</td>\n",
       "                        <td id=\"T_4a1fc594_1cd8_11eb_9bd0_f2415b27aa47row10_col5\" class=\"data row10 col5\" >mellow</td>\n",
       "            </tr>\n",
       "            <tr>\n",
       "                        <th id=\"T_4a1fc594_1cd8_11eb_9bd0_f2415b27aa47level0_row11\" class=\"row_heading level0 row11\" >11</th>\n",
       "                        <td id=\"T_4a1fc594_1cd8_11eb_9bd0_f2415b27aa47row11_col0\" class=\"data row11 col0\" >rock</td>\n",
       "                        <td id=\"T_4a1fc594_1cd8_11eb_9bd0_f2415b27aa47row11_col1\" class=\"data row11 col1\" >mellow</td>\n",
       "                        <td id=\"T_4a1fc594_1cd8_11eb_9bd0_f2415b27aa47row11_col2\" class=\"data row11 col2\" >religious</td>\n",
       "                        <td id=\"T_4a1fc594_1cd8_11eb_9bd0_f2415b27aa47row11_col3\" class=\"data row11 col3\" >new wave</td>\n",
       "                        <td id=\"T_4a1fc594_1cd8_11eb_9bd0_f2415b27aa47row11_col4\" class=\"data row11 col4\" >potty mouth</td>\n",
       "                        <td id=\"T_4a1fc594_1cd8_11eb_9bd0_f2415b27aa47row11_col5\" class=\"data row11 col5\" >new wave</td>\n",
       "            </tr>\n",
       "            <tr>\n",
       "                        <th id=\"T_4a1fc594_1cd8_11eb_9bd0_f2415b27aa47level0_row12\" class=\"row_heading level0 row12\" >12</th>\n",
       "                        <td id=\"T_4a1fc594_1cd8_11eb_9bd0_f2415b27aa47row12_col0\" class=\"data row12 col0\" >sad</td>\n",
       "                        <td id=\"T_4a1fc594_1cd8_11eb_9bd0_f2415b27aa47row12_col1\" class=\"data row12 col1\" >new wave</td>\n",
       "                        <td id=\"T_4a1fc594_1cd8_11eb_9bd0_f2415b27aa47row12_col2\" class=\"data row12 col2\" >rock</td>\n",
       "                        <td id=\"T_4a1fc594_1cd8_11eb_9bd0_f2415b27aa47row12_col3\" class=\"data row12 col3\" >pop</td>\n",
       "                        <td id=\"T_4a1fc594_1cd8_11eb_9bd0_f2415b27aa47row12_col4\" class=\"data row12 col4\" >punk funk</td>\n",
       "                        <td id=\"T_4a1fc594_1cd8_11eb_9bd0_f2415b27aa47row12_col5\" class=\"data row12 col5\" >rock</td>\n",
       "            </tr>\n",
       "            <tr>\n",
       "                        <th id=\"T_4a1fc594_1cd8_11eb_9bd0_f2415b27aa47level0_row13\" class=\"row_heading level0 row13\" >13</th>\n",
       "                        <td id=\"T_4a1fc594_1cd8_11eb_9bd0_f2415b27aa47row13_col0\" class=\"data row13 col0\" >sexy</td>\n",
       "                        <td id=\"T_4a1fc594_1cd8_11eb_9bd0_f2415b27aa47row13_col1\" class=\"data row13 col1\" >seen live</td>\n",
       "                        <td id=\"T_4a1fc594_1cd8_11eb_9bd0_f2415b27aa47row13_col2\" class=\"data row13 col2\" >seen live</td>\n",
       "                        <td id=\"T_4a1fc594_1cd8_11eb_9bd0_f2415b27aa47row13_col3\" class=\"data row13 col3\" >rock</td>\n",
       "                        <td id=\"T_4a1fc594_1cd8_11eb_9bd0_f2415b27aa47row13_col4\" class=\"data row13 col4\" >seen live</td>\n",
       "                        <td id=\"T_4a1fc594_1cd8_11eb_9bd0_f2415b27aa47row13_col5\" class=\"data row13 col5\" >seen live</td>\n",
       "            </tr>\n",
       "            <tr>\n",
       "                        <th id=\"T_4a1fc594_1cd8_11eb_9bd0_f2415b27aa47level0_row14\" class=\"row_heading level0 row14\" >14</th>\n",
       "                        <td id=\"T_4a1fc594_1cd8_11eb_9bd0_f2415b27aa47row14_col0\" class=\"data row14 col0\" >soundtrack</td>\n",
       "                        <td id=\"T_4a1fc594_1cd8_11eb_9bd0_f2415b27aa47row14_col1\" class=\"data row14 col1\" >singer-songwriter</td>\n",
       "                        <td id=\"T_4a1fc594_1cd8_11eb_9bd0_f2415b27aa47row14_col2\" class=\"data row14 col2\" >turkish pop</td>\n",
       "                        <td id=\"T_4a1fc594_1cd8_11eb_9bd0_f2415b27aa47row14_col3\" class=\"data row14 col3\" >singer-songwriter</td>\n",
       "                        <td id=\"T_4a1fc594_1cd8_11eb_9bd0_f2415b27aa47row14_col4\" class=\"data row14 col4\" >triple j</td>\n",
       "                        <td id=\"T_4a1fc594_1cd8_11eb_9bd0_f2415b27aa47row14_col5\" class=\"data row14 col5\" >sexy</td>\n",
       "            </tr>\n",
       "    </tbody></table>"
      ],
      "text/plain": [
       "<pandas.io.formats.style.Styler at 0x7f27cae228e0>"
      ]
     },
     "execution_count": 37,
     "metadata": {},
     "output_type": "execute_result"
    }
   ],
   "source": [
    "df = (pd.DataFrame([[i[0] for i in res1], [i[0] for i in res2], \n",
    "              [i[0] for i in res3], [i[0] for i in res4],\n",
    "              [i[0] for i in res5], [i[0] for i in res6]]).T\n",
    "      .apply(lambda x: x.sort_values().values))\n",
    "df.columns = ['Original', 'User Based', 'Item Based', 'NMF', 'Hybrid',\n",
    "              'Hybrid++']\n",
    "df.style.applymap(lambda x: \"background-color: pink\" if x in\n",
    "                  [i[0] for i in res1] else \"background-color: white\")"
   ]
  },
  {
   "cell_type": "markdown",
   "metadata": {},
   "source": [
    "# 🎤 Recommendations\n",
    "\n",
    "To make a recommender system that could be realistically applied, the following are recommended to augment the findings of this study:\n",
    "1. Try the Hybrid-CF method. Although a satisfactory output was achieved from the Hybrid-IB with friend-only neighborhood, the paper from which these methods were obtained suggested the Hybrid-CF to be superior.\n",
    "2. Use additional user and artist demographics and language filters.\n",
    "3. Recommend music and not artists. Users listening to a readymade playlist would not need to know each artist that comes up but would instead be listening to the music. If the recommended music is similar to the users taste, the user would continue listening. This requires audio features of the music itself, similar to what Spotify does i.e. danceability, acousticness, instrumentalness, etc.\n",
    "4. Recommending music may also be improved by considering low listening count artists as candidates as well. For this particular user with the top listening count to Lady Gaga, Last FM recommends Katy Perry, which is at the bottom of her list of artists listened to. If the following song of Katy Perry were to be compared to the first song of Lady Gaga in this notebook, the similarity in type of music would be clear."
   ]
  },
  {
   "cell_type": "code",
   "execution_count": 38,
   "metadata": {
    "ExecuteTime": {
     "end_time": "2020-11-02T06:54:44.730024Z",
     "start_time": "2020-11-02T06:54:44.723304Z"
    },
    "scrolled": true
   },
   "outputs": [
    {
     "data": {
      "text/plain": [
       "['Lady Gaga',\n",
       " 'Britney Spears',\n",
       " 'Linkin Park',\n",
       " 'Porcelain and the Tramps',\n",
       " 'Lindsay Lohan',\n",
       " 'Christina Aguilera',\n",
       " 'Placebo',\n",
       " 'Michael Jackson',\n",
       " 'The Cure',\n",
       " 'Porcelain Black',\n",
       " 'Skillet',\n",
       " 'Eminem',\n",
       " 'Adam Lambert',\n",
       " 'Kerli',\n",
       " 'Marilyn Monroe',\n",
       " 'Marilyn Manson',\n",
       " 'Ashlee Simpson',\n",
       " 'Good Charlotte',\n",
       " 'Ke$ha',\n",
       " 'Tila Tequila',\n",
       " 'Avril Lavigne',\n",
       " 'Madonna',\n",
       " 'Kelly Clarkson',\n",
       " 'The Pretty Reckless',\n",
       " 'Jeffree Star',\n",
       " 'Nirvana',\n",
       " 'The Kills',\n",
       " 'The Beatles',\n",
       " 'The Dead Weather',\n",
       " 'The Subways',\n",
       " 'The Offspring',\n",
       " 'Depeche Mode',\n",
       " 'Dead by Sunrise',\n",
       " 'Blood Red Shoes',\n",
       " 'Rihanna',\n",
       " 'Tokio Hotel',\n",
       " '3OH!3',\n",
       " 'Miley Cyrus',\n",
       " 'Flyleaf',\n",
       " 'Simple Plan',\n",
       " 'Green Day',\n",
       " 'Silbermond',\n",
       " 'Evanescence',\n",
       " 'Katy Perry',\n",
       " 'The Dresden Dolls',\n",
       " 'Paramore',\n",
       " 'Hilary Duff',\n",
       " '倖田來未',\n",
       " 'The Veronicas',\n",
       " '30 Seconds to Mars']"
      ]
     },
     "execution_count": 38,
     "metadata": {},
     "output_type": "execute_result"
    }
   ],
   "source": [
    "list(user_artists_2.loc[user].dropna().sort_values(ascending=False).index)"
   ]
  },
  {
   "cell_type": "code",
   "execution_count": 39,
   "metadata": {
    "ExecuteTime": {
     "end_time": "2020-11-02T06:54:44.838482Z",
     "start_time": "2020-11-02T06:54:44.731689Z"
    }
   },
   "outputs": [
    {
     "data": {
      "image/jpeg": "[encoded data removed]",
      "text/html": [
       "\n",
       "        <iframe\n",
       "            width=\"950\"\n",
       "            height=\"300\"\n",
       "            src=\"https://www.youtube.com/embed/tAp9BKosZXs\"\n",
       "            frameborder=\"0\"\n",
       "            allowfullscreen\n",
       "        ></iframe>\n",
       "        "
      ],
      "text/plain": [
       "<IPython.lib.display.YouTubeVideo at 0x7f276cfbd430>"
      ]
     },
     "execution_count": 39,
     "metadata": {},
     "output_type": "execute_result"
    }
   ],
   "source": [
    "YouTubeVideo('tAp9BKosZXs', width=950, height=300)"
   ]
  },
  {
   "cell_type": "markdown",
   "metadata": {},
   "source": [
    "# 🎤Conclusion\n",
    "\n",
    "The need to recommend new artists and music to users of music streaming services can be solved with the use of recommender systems. Although the models used in this project only use user's listening count of artists, satisfactory results were achieved with the Hybrid w/ friend-only neighborhood algorithm. Further filters such as language and geographic location need to be applied to make the model realistically usable. Furthermore, these music streaming services should put more effort in recommending music rather than just artists to prolong usage of their services."
   ]
  },
  {
   "cell_type": "markdown",
   "metadata": {},
   "source": [
    "# References:\n",
    "\n",
    "1. Manolis Vozalis & Konstantinos G. Margaritis. (2004) On the combination of user-based and item-based collaborative filtering, International Journal of Computer Mathematics, 81:9, 1077-1096, DOI: 10.1080/03057920412331272199"
   ]
  }
 ],
 "metadata": {
  "kernelspec": {
   "display_name": "Python 3",
   "language": "python",
   "name": "python3"
  },
  "language_info": {
   "codemirror_mode": {
    "name": "ipython",
    "version": 3
   },
   "file_extension": ".py",
   "mimetype": "text/x-python",
   "name": "python",
   "nbconvert_exporter": "python",
   "pygments_lexer": "ipython3",
   "version": "3.8.6"
  },
  "toc": {
   "base_numbering": 1,
   "nav_menu": {},
   "number_sections": true,
   "sideBar": true,
   "skip_h1_title": false,
   "title_cell": "Table of Contents",
   "title_sidebar": "Contents",
   "toc_cell": false,
   "toc_position": {},
   "toc_section_display": true,
   "toc_window_display": false
  },
  "varInspector": {
   "cols": {
    "lenName": 16,
    "lenType": 16,
    "lenVar": 40
   },
   "kernels_config": {
    "python": {
     "delete_cmd_postfix": "",
     "delete_cmd_prefix": "del ",
     "library": "var_list.py",
     "varRefreshCmd": "print(var_dic_list())"
    },
    "r": {
     "delete_cmd_postfix": ") ",
     "delete_cmd_prefix": "rm(",
     "library": "var_list.r",
     "varRefreshCmd": "cat(var_dic_list()) "
    }
   },
   "types_to_exclude": [
    "module",
    "function",
    "builtin_function_or_method",
    "instance",
    "_Feature"
   ],
   "window_display": false
  }
 },
 "nbformat": 4,
 "nbformat_minor": 4
}
